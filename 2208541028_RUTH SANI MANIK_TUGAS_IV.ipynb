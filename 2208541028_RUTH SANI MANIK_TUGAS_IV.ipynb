{
  "cells": [
    {
      "cell_type": "markdown",
      "metadata": {
        "id": "view-in-github",
        "colab_type": "text"
      },
      "source": [
        "<a href=\"https://colab.research.google.com/github/ruthmanik/Tugas-Algoritma/blob/main/2208541028_RUTH%20SANI%20MANIK_TUGAS_IV.ipynb\" target=\"_parent\"><img src=\"https://colab.research.google.com/assets/colab-badge.svg\" alt=\"Open In Colab\"/></a>"
      ]
    },
    {
      "cell_type": "markdown",
      "id": "c421fe8b",
      "metadata": {
        "id": "c421fe8b"
      },
      "source": [
        "# 5.11 While Loop\n",
        "while loop adalah jika suatu kondisi itu bernilai true, maka perulangannya pun akan selalu dieksekusi dan jika bernilai false maka akan berhenti"
      ]
    },
    {
      "cell_type": "code",
      "execution_count": 15,
      "id": "5295ffb3",
      "metadata": {
        "colab": {
          "base_uri": "https://localhost:8080/"
        },
        "id": "5295ffb3",
        "outputId": "d634e41d-6261-4104-ed25-d362486dcb52"
      },
      "outputs": [
        {
          "output_type": "stream",
          "name": "stdout",
          "text": [
            "Hallo Dunia!\n",
            "Hallo Dunia!\n",
            "Hallo Dunia!\n",
            "Hallo Dunia!\n",
            "Hallo Dunia!\n"
          ]
        }
      ],
      "source": [
        "#Tugas Pertemuan Senin, 27 Maret 2023\n",
        "\n",
        "\n",
        "#Latihan while loop 1\n",
        "i = 1\n",
        "while i <= 5:\n",
        "  print(\"Hallo Dunia!\")\n",
        "  i += 1\n",
        "#maka akan dieksekusi dan mencetak \"Hallo Dunia!\" sebanyak 5"
      ]
    },
    {
      "cell_type": "code",
      "source": [
        "#latihan while loop 2\n",
        "\n",
        "#Pertama menentukan variabel untuk menghitung, dan menentukan kapan perulangan berhenti\n",
        "jawab = \"ya\"           \n",
        "hitung = 0\n",
        "#kalau menjawab tidak maka perulangan akan terhenti\n",
        "while(True):\n",
        "  hitung += 1\n",
        "  jawab = input (\"belajar lagi tidak? \")\n",
        "  #selanjutnya menambah satu variabel \"belajar\" setiap kali mengulang, lalu menanyakan apakah mau berhenti belajarya atau tidak?\n",
        "  if jawab == \"tidak\":\n",
        "     break\n",
        "print(f\"total perulangan: {hitung}\")\n",
        "# setelah selesai  mengulang, cetak berapa kali perulangan tersebut terjadi\n"
      ],
      "metadata": {
        "colab": {
          "base_uri": "https://localhost:8080/"
        },
        "id": "9M6YNxLsZevI",
        "outputId": "454b4b6c-6698-4dc2-e6f9-b0bc40a03019"
      },
      "id": "9M6YNxLsZevI",
      "execution_count": 19,
      "outputs": [
        {
          "output_type": "stream",
          "name": "stdout",
          "text": [
            "belajar lagi tidak? ya\n",
            "belajar lagi tidak? ya\n",
            "belajar lagi tidak? ya\n",
            "belajar lagi tidak? ya\n",
            "belajar lagi tidak? ya\n",
            "belajar lagi tidak? ya\n",
            "belajar lagi tidak? tidak\n",
            "total perulangan: 7\n"
          ]
        }
      ]
    },
    {
      "cell_type": "code",
      "source": [
        "#Latihan while loop 3\n",
        "\n",
        "#pertama kita tentukan terlebih dahulu variabel\n",
        "print(\"Bilangan Bulat 1 hingga x\")\n",
        "i =1;\n",
        "x = int(input(\"Masukkan Bilangan Bulat x = \"));\n",
        "#kemudian dilakukan perulangan sampai nilai i kurang dari atau sama dengan bilang bulat yang ingin kita input\n",
        "while i <= x:\n",
        "    print(i);\n",
        "    i=i+1;\n",
        "\n"
      ],
      "metadata": {
        "colab": {
          "base_uri": "https://localhost:8080/"
        },
        "id": "Tt8FoA-oQDEs",
        "outputId": "afbbecb7-65b6-4ce3-d89e-314f2426a971"
      },
      "id": "Tt8FoA-oQDEs",
      "execution_count": 20,
      "outputs": [
        {
          "output_type": "stream",
          "name": "stdout",
          "text": [
            "Bilangan Bulat 1 hingga x\n",
            "Masukkan Bilangan Bulat x = 6\n",
            "1\n",
            "2\n",
            "3\n",
            "4\n",
            "5\n",
            "6\n"
          ]
        }
      ]
    },
    {
      "cell_type": "markdown",
      "id": "e88dc8e5",
      "metadata": {
        "id": "e88dc8e5"
      },
      "source": [
        "# 5.12 List\n",
        "List dapat disebut sebagai struktur atau urutan dan isinya dapat diubah"
      ]
    },
    {
      "cell_type": "code",
      "execution_count": 21,
      "id": "a19d9592",
      "metadata": {
        "colab": {
          "base_uri": "https://localhost:8080/"
        },
        "id": "a19d9592",
        "outputId": "eacd4ebb-2523-4793-dfd8-f2a700e02659"
      },
      "outputs": [
        {
          "output_type": "stream",
          "name": "stdout",
          "text": [
            "['sehun', 'chen', 'suho', 'do', 'kai']\n"
          ]
        }
      ],
      "source": [
        "#Latihan list 1\n",
        "\n",
        "#list mula-mula\n",
        "EXO = [\"sehun\" , \"chen\" , \"suho\" , \"do\" , \"kai\"]\n",
        "print(EXO) \n"
      ]
    },
    {
      "cell_type": "code",
      "execution_count": 22,
      "id": "2a386a2e",
      "metadata": {
        "colab": {
          "base_uri": "https://localhost:8080/"
        },
        "id": "2a386a2e",
        "outputId": "ed925aae-b4aa-409b-d0dc-3bc5656bd840"
      },
      "outputs": [
        {
          "output_type": "stream",
          "name": "stdout",
          "text": [
            "sehun\n"
          ]
        }
      ],
      "source": [
        "#kita mempunyai list seperti diatas \n",
        "#misalnya kita ingin mengambil sehun \n",
        "#maka indeksnya adalah 0 \n",
        "print (EXO[0])"
      ]
    },
    {
      "cell_type": "code",
      "source": [
        "#selanjutnya misal kita ingin mengambil suho\n",
        "#maka indeksnya adalah-3 \n",
        "print(EXO[-3])"
      ],
      "metadata": {
        "colab": {
          "base_uri": "https://localhost:8080/"
        },
        "id": "ln92n7JgQj8a",
        "outputId": "c45dfef0-7c72-4423-ceff-81a05de377dc"
      },
      "id": "ln92n7JgQj8a",
      "execution_count": 23,
      "outputs": [
        {
          "output_type": "stream",
          "name": "stdout",
          "text": [
            "suho\n"
          ]
        }
      ]
    },
    {
      "cell_type": "code",
      "source": [
        "#selanjutnya jika kita ingin menggati chen menjadi baekhyun \n",
        "EXO[1] =\"baekhyun\"\n",
        "print(EXO)"
      ],
      "metadata": {
        "colab": {
          "base_uri": "https://localhost:8080/"
        },
        "id": "AgWWy7_yQofi",
        "outputId": "a10b5e95-629d-401f-92d6-cfc0dfe58f54"
      },
      "id": "AgWWy7_yQofi",
      "execution_count": 24,
      "outputs": [
        {
          "output_type": "stream",
          "name": "stdout",
          "text": [
            "['sehun', 'baekhyun', 'suho', 'do', 'kai']\n"
          ]
        }
      ]
    },
    {
      "cell_type": "code",
      "source": [
        "#selanjutnya kita potong indeks [1:5]\n",
        "print(EXO[1:5])"
      ],
      "metadata": {
        "colab": {
          "base_uri": "https://localhost:8080/"
        },
        "id": "OODortCuRbbF",
        "outputId": "519200ad-7eda-4d20-ee4a-bd268134c491"
      },
      "id": "OODortCuRbbF",
      "execution_count": 25,
      "outputs": [
        {
          "output_type": "stream",
          "name": "stdout",
          "text": [
            "['baekhyun', 'suho', 'do', 'kai']\n"
          ]
        }
      ]
    },
    {
      "cell_type": "code",
      "source": [
        "#tidak merubah list\n",
        "print(EXO)"
      ],
      "metadata": {
        "colab": {
          "base_uri": "https://localhost:8080/"
        },
        "id": "DbWJamMSajV3",
        "outputId": "83e79ed4-d7f7-45cb-f890-ef7d877ee296"
      },
      "id": "DbWJamMSajV3",
      "execution_count": 26,
      "outputs": [
        {
          "output_type": "stream",
          "name": "stdout",
          "text": [
            "['sehun', 'baekhyun', 'suho', 'do', 'kai']\n"
          ]
        }
      ]
    },
    {
      "cell_type": "code",
      "source": [
        "#Latihan list 2\n",
        "\n",
        "#list dapat dilakukan terhadap beberapa operasi:\n",
        "#yang pertama penggabungan (+)  \n",
        "#beberapa list lagu \n",
        "list_lagu = [\n",
        "    \"promise, drop that,\",\n",
        "    \"ran this\"\n",
        "]\n",
        "#playlist lagu favorit\n",
        "playlist_favorit = [\n",
        "    \"power\", \n",
        "    \"bird\"\n",
        "]\n",
        "#mari kita gabungkan keduanya\n",
        "semua_lagu = list_lagu + playlist_favorit\n",
        "print(semua_lagu)"
      ],
      "metadata": {
        "colab": {
          "base_uri": "https://localhost:8080/"
        },
        "id": "rrBYvabDajso",
        "outputId": "8380e080-21d8-4f2e-bd5f-66978b3065f4"
      },
      "id": "rrBYvabDajso",
      "execution_count": 27,
      "outputs": [
        {
          "output_type": "stream",
          "name": "stdout",
          "text": [
            "['promise, drop that,', 'ran this', 'power', 'bird']\n"
          ]
        }
      ]
    },
    {
      "cell_type": "code",
      "source": [
        "#yang kedua perkalian (*)\n",
        "#beberapa list lagu\n",
        "playlist_favorit = [\n",
        "    \"power\",\n",
        "    \"bird\"\n",
        "]\n",
        "#selanjutnya kita ulangi srbanyak 5x\n",
        "ulangi = 5\n",
        "now_playing = playlist_favorit * ulangi\n",
        "print(now_playing)"
      ],
      "metadata": {
        "colab": {
          "base_uri": "https://localhost:8080/"
        },
        "id": "qD-9pVzPfpAJ",
        "outputId": "5e84612a-4db1-4ede-fb44-f5dffcd6c195"
      },
      "id": "qD-9pVzPfpAJ",
      "execution_count": 28,
      "outputs": [
        {
          "output_type": "stream",
          "name": "stdout",
          "text": [
            "['power', 'bird', 'power', 'bird', 'power', 'bird', 'power', 'bird', 'power', 'bird']\n"
          ]
        }
      ]
    },
    {
      "cell_type": "code",
      "source": [
        "#Latihan list 3\n",
        "\n",
        "#membuat list untuk menenpung nama nama teman \n",
        "my_friends = [\"Maria\", \"Mariam\", \"Dian\", \"Ayu\", \"Lira\"]\n",
        "#tampilkan isi list my_friends dengan indeks ke-3 \n",
        "print(\"my_friends indeks ke-3 adalah: {}\" .format(my_friends[3]))\n",
        "#menampilkan semua daftar teman\n",
        "#kita menggunakna fungsi len mengambil panjang list\n",
        "print(\"semua teman: ada {} orang\" .format(len(my_friends)))\n",
        "for friend in my_friends:\n",
        "    print(friend)"
      ],
      "metadata": {
        "colab": {
          "base_uri": "https://localhost:8080/"
        },
        "id": "edT-f1wJhSsQ",
        "outputId": "3a077810-3c2f-4d6c-abe6-0ac5cbdfc3b5"
      },
      "id": "edT-f1wJhSsQ",
      "execution_count": 29,
      "outputs": [
        {
          "output_type": "stream",
          "name": "stdout",
          "text": [
            "my_friends indeks ke-3 adalah: Ayu\n",
            "semua teman: ada 5 orang\n",
            "Maria\n",
            "Mariam\n",
            "Dian\n",
            "Ayu\n",
            "Lira\n"
          ]
        }
      ]
    },
    {
      "cell_type": "markdown",
      "id": "c67540ba",
      "metadata": {
        "id": "c67540ba"
      },
      "source": [
        "# 5.13 Metoda List\n",
        "terdapat beberapa metoda atau fungsi yang dapat digunakan untuk menambahkan isi atau item ke list:"
      ]
    },
    {
      "cell_type": "code",
      "execution_count": 30,
      "id": "57c1727f",
      "metadata": {
        "colab": {
          "base_uri": "https://localhost:8080/"
        },
        "id": "57c1727f",
        "outputId": "33c28f70-87a4-4c8c-9e4a-1068521ff87a"
      },
      "outputs": [
        {
          "output_type": "stream",
          "name": "stdout",
          "text": [
            "['Senin', 'Selasa', 'Rabu', 'Kamis']\n"
          ]
        }
      ],
      "source": [
        "#Latihan metoda list 1\n",
        "\n",
        "#metode yang pertama menggunakan append, dimana berfungsi menambahkan item dari belakang\n",
        "#mula mula list\n",
        "Hari = [\"Senin\" , \"Selasa\" , \"Rabu\"]\n",
        "#tambahkan \"kamis\"\n",
        "Hari.append(\"Kamis\")\n",
        "#hasilnya \"kamis\" akan ditambahkan setelah item terakhir\n",
        "print(Hari)\n"
      ]
    },
    {
      "cell_type": "code",
      "execution_count": 31,
      "id": "b43a5f6f",
      "metadata": {
        "colab": {
          "base_uri": "https://localhost:8080/"
        },
        "id": "b43a5f6f",
        "outputId": "41d6be1e-ec40-4c12-bf39-baec6a256583"
      },
      "outputs": [
        {
          "output_type": "stream",
          "name": "stdout",
          "text": [
            "['Minggu', 'Senin', 'Selasa', 'Rabu', 'Kamis']\n"
          ]
        }
      ],
      "source": [
        "#metoda yang kedua menggunakan insert,untuk menambahkan item pada indeks tertentu\n",
        "Hari.insert(0,\"Minggu\")\n",
        "print(Hari)"
      ]
    },
    {
      "cell_type": "code",
      "source": [
        "#metoda yang ketiga menggunakan remove untuk membuang item pada indeks tertentu\n",
        "Hari.remove(\"Rabu\")\n",
        "print(Hari)"
      ],
      "metadata": {
        "colab": {
          "base_uri": "https://localhost:8080/"
        },
        "id": "-UruE_R_qyU9",
        "outputId": "456577fd-74fd-45a4-b6c1-354fa0487364"
      },
      "id": "-UruE_R_qyU9",
      "execution_count": 32,
      "outputs": [
        {
          "output_type": "stream",
          "name": "stdout",
          "text": [
            "['Minggu', 'Senin', 'Selasa', 'Kamis']\n"
          ]
        }
      ]
    },
    {
      "cell_type": "code",
      "source": [
        "#menentukan apakah bernilai true atau false\n",
        "#akan bernilai false karena Jumat tidak ada pada list\n",
        "print(\"Jumat\" in Hari)"
      ],
      "metadata": {
        "colab": {
          "base_uri": "https://localhost:8080/"
        },
        "id": "ugoNWtu-u5s9",
        "outputId": "94e2b27f-ee61-4694-8a72-ba78e5015870"
      },
      "id": "ugoNWtu-u5s9",
      "execution_count": 33,
      "outputs": [
        {
          "output_type": "stream",
          "name": "stdout",
          "text": [
            "False\n"
          ]
        }
      ]
    },
    {
      "cell_type": "code",
      "source": [
        "#akan bernilai true karena Senin ada pada list\n",
        "print(\"Senin\" in Hari)"
      ],
      "metadata": {
        "colab": {
          "base_uri": "https://localhost:8080/"
        },
        "id": "otgdxVtDvxbl",
        "outputId": "64f7da45-0d1c-419e-f2f0-6ab10220b413"
      },
      "id": "otgdxVtDvxbl",
      "execution_count": 34,
      "outputs": [
        {
          "output_type": "stream",
          "name": "stdout",
          "text": [
            "True\n"
          ]
        }
      ]
    },
    {
      "cell_type": "code",
      "source": [
        "#Latihan metode list 2\n",
        "\n",
        "#pertama list\n",
        "deret = [1, 2, 3, 4, 5, 6, 7, 8, 9, 100, 11, 11, 11]\n",
        "#kemudian kita menambahkan elemen list dengan menggunakan metode append\n",
        "print(\"\\nmenambahkan elemen list dengan append:\")\n",
        "deret.append(15)\n",
        "deret.append(16)\n",
        "deret.append(17)\n",
        "deret.append(18)\n",
        "deret.append(19)\n",
        "deret.append(20)\n",
        "print(deret)\n",
        "#kemudian kita menambahkan elemen list dengan menggunakan metode insert\n",
        "print(\"\\nmenambahkan elemen list dengan insert:\")\n",
        "deret.insert(2, 35)\n",
        "deret.insert(2, 36)\n",
        "deret.insert(2, 37)\n",
        "deret.insert(2, 38)\n",
        "deret.insert(2, 39)\n",
        "deret.insert(2, 30)\n",
        "print(deret)\n",
        "#kemudian kita membuang elemen list dengan menggunakan metode remove\n",
        "print(\"\\nmembuang elemen list dengan remove:\")\n",
        "deret.remove(35)\n",
        "deret.remove(36)\n",
        "deret.remove(37)\n",
        "deret.remove(38)\n",
        "deret.remove(39)\n",
        "deret.remove(30)\n",
        "print(deret)\n",
        "#kemudian menentukan apakah bernilai true atau false\n",
        "print(\"\\n21 bernilai pada list:\")\n",
        "print(\"21\" in deret)\n",
        "print(\"\\n100 bernilai pada list:\")\n",
        "print(\"100\" in deret)"
      ],
      "metadata": {
        "colab": {
          "base_uri": "https://localhost:8080/"
        },
        "id": "E1WZz-Kgylb3",
        "outputId": "e0fac50a-c6aa-4734-9cfa-b210e50cfca8"
      },
      "id": "E1WZz-Kgylb3",
      "execution_count": 35,
      "outputs": [
        {
          "output_type": "stream",
          "name": "stdout",
          "text": [
            "\n",
            "menambahkan elemen list dengan append:\n",
            "[1, 2, 3, 4, 5, 6, 7, 8, 9, 100, 11, 11, 11, 15, 16, 17, 18, 19, 20]\n",
            "\n",
            "menambahkan elemen list dengan insert:\n",
            "[1, 2, 30, 39, 38, 37, 36, 35, 3, 4, 5, 6, 7, 8, 9, 100, 11, 11, 11, 15, 16, 17, 18, 19, 20]\n",
            "\n",
            "membuang elemen list dengan remove:\n",
            "[1, 2, 3, 4, 5, 6, 7, 8, 9, 100, 11, 11, 11, 15, 16, 17, 18, 19, 20]\n",
            "\n",
            "21 bernilai pada list:\n",
            "False\n",
            "\n",
            "100 bernilai pada list:\n",
            "False\n"
          ]
        }
      ]
    },
    {
      "cell_type": "markdown",
      "id": "eecf0b6c",
      "metadata": {
        "id": "eecf0b6c"
      },
      "source": [
        "# 5.14 For Loop\n",
        "  for loop pada Python memiliki kemampuan untuk mengulangi item dari urutan apapun, seperti list atau string"
      ]
    },
    {
      "cell_type": "code",
      "source": [
        "#Latihan for loop 1 \n",
        "\n",
        "#pertama list\n",
        "angka = [1,2,3,4,5]\n",
        "for x in angka:\n",
        "  print(x)\n"
      ],
      "metadata": {
        "colab": {
          "base_uri": "https://localhost:8080/"
        },
        "id": "RsSbd9DgQztf",
        "outputId": "8fa15c74-fe81-4a29-c27f-b3ff72a021a7"
      },
      "id": "RsSbd9DgQztf",
      "execution_count": 36,
      "outputs": [
        {
          "output_type": "stream",
          "name": "stdout",
          "text": [
            "1\n",
            "2\n",
            "3\n",
            "4\n",
            "5\n"
          ]
        }
      ]
    },
    {
      "cell_type": "code",
      "source": [
        "#Latihan for loop 2\n",
        "\n",
        "#membuat list buah\n",
        "buah = [\"anggur\" , \"apel\" , \"rambutan\" , \"semangka\"]\n",
        "for jenis in buah:\n",
        "    print(jenis)"
      ],
      "metadata": {
        "colab": {
          "base_uri": "https://localhost:8080/"
        },
        "id": "LpxLDS-fQ_fR",
        "outputId": "bb638964-2826-4c2e-f90e-e689c0a6fdc0"
      },
      "id": "LpxLDS-fQ_fR",
      "execution_count": 37,
      "outputs": [
        {
          "output_type": "stream",
          "name": "stdout",
          "text": [
            "anggur\n",
            "apel\n",
            "rambutan\n",
            "semangka\n"
          ]
        }
      ]
    },
    {
      "cell_type": "code",
      "source": [
        "i = 0\n",
        "while i < len(buah):\n",
        "    print(buah[i])\n",
        "    i+=1"
      ],
      "metadata": {
        "colab": {
          "base_uri": "https://localhost:8080/"
        },
        "id": "URdihtan_f-_",
        "outputId": "35f04760-5767-477b-bcbd-193c5345ca02"
      },
      "id": "URdihtan_f-_",
      "execution_count": 38,
      "outputs": [
        {
          "output_type": "stream",
          "name": "stdout",
          "text": [
            "anggur\n",
            "apel\n",
            "rambutan\n",
            "semangka\n"
          ]
        }
      ]
    },
    {
      "cell_type": "code",
      "execution_count": 39,
      "id": "7e2a018d",
      "metadata": {
        "colab": {
          "base_uri": "https://localhost:8080/"
        },
        "id": "7e2a018d",
        "outputId": "216da5fa-c679-4ca3-9e8a-e04698c7062f"
      },
      "outputs": [
        {
          "output_type": "stream",
          "name": "stdout",
          "text": [
            "saya suka makan soto\n",
            "saya suka makan bakso\n",
            "saya suka makan gado-gado\n",
            "saya suka makan ayam goreng\n",
            "saya suka makan rawon\n"
          ]
        }
      ],
      "source": [
        "#Latihan for loop 3\n",
        "makanan = [\"soto\" , \"bakso\" , \"gado-gado\" , \"ayam goreng\" , \"rawon\"]\n",
        "for jenis in makanan:\n",
        "    print(\"saya suka makan\" , jenis)"
      ]
    },
    {
      "cell_type": "code",
      "execution_count": 40,
      "id": "c3fd1ff0",
      "metadata": {
        "colab": {
          "base_uri": "https://localhost:8080/"
        },
        "id": "c3fd1ff0",
        "outputId": "de2d8be3-15f3-4e7b-8559-dd419e965991"
      },
      "outputs": [
        {
          "output_type": "stream",
          "name": "stdout",
          "text": [
            "0 soto\n",
            "1 bakso\n",
            "2 gado-gado\n",
            "3 ayam goreng\n",
            "4 rawon\n"
          ]
        }
      ],
      "source": [
        "#sama seperti list diatas hanya menambahkan nomor disetiap makanan\n",
        "makanan = [\"soto\" , \"bakso\" , \"gado-gado\" , \"ayam goreng\" , \"rawon\"]\n",
        "for i, jenis in enumerate (makanan):\n",
        "    print(i , jenis)"
      ]
    },
    {
      "cell_type": "markdown",
      "id": "bc5e2774",
      "metadata": {
        "id": "bc5e2774"
      },
      "source": [
        "# 5.15 Fungsi Range\n",
        "fungsi range merupakan fungsi yang menghasilkan list. Fungsi ini akan menciptakan sebuah list baru dengan rentang nilai tertentu\n"
      ]
    },
    {
      "cell_type": "code",
      "execution_count": 41,
      "id": "78838eda",
      "metadata": {
        "colab": {
          "base_uri": "https://localhost:8080/"
        },
        "id": "78838eda",
        "outputId": "b53f2554-a7fc-46ff-805a-9b128f288f42"
      },
      "outputs": [
        {
          "output_type": "stream",
          "name": "stdout",
          "text": [
            "range(0, 5)\n"
          ]
        }
      ],
      "source": [
        "#Latihan fungsi range 1\n",
        "\n",
        "#masukkan data\n",
        "angka = range(5)\n",
        "print(angka)"
      ]
    },
    {
      "cell_type": "code",
      "execution_count": 42,
      "id": "55a1858b",
      "metadata": {
        "colab": {
          "base_uri": "https://localhost:8080/"
        },
        "id": "55a1858b",
        "outputId": "a38550b3-50bc-4182-f716-e9c1f0cceb29"
      },
      "outputs": [
        {
          "output_type": "stream",
          "name": "stdout",
          "text": [
            "0\n",
            "1\n",
            "2\n",
            "3\n",
            "4\n"
          ]
        }
      ],
      "source": [
        "for isi in angka:\n",
        "     print(isi)"
      ]
    },
    {
      "cell_type": "code",
      "source": [
        "#Latihan fungsi range 2\n",
        "for isi in range(3,9):\n",
        "     print(isi)"
      ],
      "metadata": {
        "colab": {
          "base_uri": "https://localhost:8080/"
        },
        "id": "OONjEiCJD_r-",
        "outputId": "b0e83082-2530-4b21-8799-590e4eebdf25"
      },
      "id": "OONjEiCJD_r-",
      "execution_count": 43,
      "outputs": [
        {
          "output_type": "stream",
          "name": "stdout",
          "text": [
            "3\n",
            "4\n",
            "5\n",
            "6\n",
            "7\n",
            "8\n"
          ]
        }
      ]
    },
    {
      "cell_type": "code",
      "source": [
        "#akan menunjukkan kelipatan 2\n",
        "for isi in range(0,12,2):\n",
        "     print(isi)"
      ],
      "metadata": {
        "colab": {
          "base_uri": "https://localhost:8080/"
        },
        "id": "FAK0GUi5EKF_",
        "outputId": "e07fc436-3eaf-487b-e212-92563021d3c2"
      },
      "id": "FAK0GUi5EKF_",
      "execution_count": 44,
      "outputs": [
        {
          "output_type": "stream",
          "name": "stdout",
          "text": [
            "0\n",
            "2\n",
            "4\n",
            "6\n",
            "8\n",
            "10\n"
          ]
        }
      ]
    },
    {
      "cell_type": "code",
      "source": [
        "#Latihan fungsi range 3\n",
        "for nomer in range (10):\n",
        "    print(\"anak-\" + str(nomer))"
      ],
      "metadata": {
        "colab": {
          "base_uri": "https://localhost:8080/"
        },
        "id": "8tOYlnR2FUm7",
        "outputId": "c62022bd-11d0-4d5b-816b-0775fcae87a8"
      },
      "id": "8tOYlnR2FUm7",
      "execution_count": 45,
      "outputs": [
        {
          "output_type": "stream",
          "name": "stdout",
          "text": [
            "anak-0\n",
            "anak-1\n",
            "anak-2\n",
            "anak-3\n",
            "anak-4\n",
            "anak-5\n",
            "anak-6\n",
            "anak-7\n",
            "anak-8\n",
            "anak-9\n"
          ]
        }
      ]
    },
    {
      "cell_type": "code",
      "source": [
        "huruf = [\"A\" , \"B\" , \"C\" , \"D\" , \"E\"]\n",
        "for i in range(len(huruf)):\n",
        "     print(i, huruf[i])"
      ],
      "metadata": {
        "colab": {
          "base_uri": "https://localhost:8080/"
        },
        "id": "2rLfmh9rHfMO",
        "outputId": "b5358bb8-ffa3-48ac-eda7-3b88f53c8fdc"
      },
      "id": "2rLfmh9rHfMO",
      "execution_count": 46,
      "outputs": [
        {
          "output_type": "stream",
          "name": "stdout",
          "text": [
            "0 A\n",
            "1 B\n",
            "2 C\n",
            "3 D\n",
            "4 E\n"
          ]
        }
      ]
    },
    {
      "cell_type": "code",
      "source": [
        "#Latihan fungsi range 4\n",
        "\n",
        "# saat inputnya satu, range(X)\n",
        "# artinya dari 0 hingga X\n",
        "print(range(15))\n",
        "\n",
        "# saat inputnya dua, range(X, Y)\n",
        "# artinya dari X hingga Y\n",
        "print(range(1, 15))\n",
        "print(range(3, 15))\n",
        "\n",
        "# saat inputnya tiga, range(X, Y, Z)\n",
        "# artinya dari X hingga Y dengan penambahan sebanyak Z\n",
        "print(range(1, 15, 2))\n",
        "print(range(1, 15, 3))"
      ],
      "metadata": {
        "colab": {
          "base_uri": "https://localhost:8080/"
        },
        "id": "EJLvpJJxIl6o",
        "outputId": "de0a59a1-3179-471b-f21f-52ce5a8e1498"
      },
      "id": "EJLvpJJxIl6o",
      "execution_count": 47,
      "outputs": [
        {
          "output_type": "stream",
          "name": "stdout",
          "text": [
            "range(0, 15)\n",
            "range(1, 15)\n",
            "range(3, 15)\n",
            "range(1, 15, 2)\n",
            "range(1, 15, 3)\n"
          ]
        }
      ]
    }
  ],
  "metadata": {
    "kernelspec": {
      "display_name": "Python 3 (ipykernel)",
      "language": "python",
      "name": "python3"
    },
    "language_info": {
      "codemirror_mode": {
        "name": "ipython",
        "version": 3
      },
      "file_extension": ".py",
      "mimetype": "text/x-python",
      "name": "python",
      "nbconvert_exporter": "python",
      "pygments_lexer": "ipython3",
      "version": "3.9.7"
    },
    "colab": {
      "provenance": [],
      "include_colab_link": true
    }
  },
  "nbformat": 4,
  "nbformat_minor": 5
}