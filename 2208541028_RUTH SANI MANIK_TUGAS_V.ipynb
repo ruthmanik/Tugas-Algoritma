{
  "nbformat": 4,
  "nbformat_minor": 0,
  "metadata": {
    "colab": {
      "provenance": [],
      "authorship_tag": "ABX9TyPn7LZ9oO66yMHwgs4jxJI4",
      "include_colab_link": true
    },
    "kernelspec": {
      "name": "python3",
      "display_name": "Python 3"
    },
    "language_info": {
      "name": "python"
    }
  },
  "cells": [
    {
      "cell_type": "markdown",
      "metadata": {
        "id": "view-in-github",
        "colab_type": "text"
      },
      "source": [
        "<a href=\"https://colab.research.google.com/github/ruthmanik/Tugas-Algoritma/blob/main/2208541028_RUTH%20SANI%20MANIK_TUGAS_V.ipynb\" target=\"_parent\"><img src=\"https://colab.research.google.com/assets/colab-badge.svg\" alt=\"Open In Colab\"/></a>"
      ]
    },
    {
      "cell_type": "markdown",
      "source": [
        "# 5.16 List 2 Dimensi\n",
        "List 2 dimennsi adalah menempatkan sebuah list du dalam list. penggambaran seperti matrik."
      ],
      "metadata": {
        "id": "BjZD84rDEujR"
      }
    },
    {
      "cell_type": "code",
      "source": [
        "#Tugas Pertemuan Senin, 3 April 2023\n",
        "\n",
        "#Latihan List 2 Dimensi 1\n",
        "#pertama kita akan membuat matrik\n",
        "matrik = [\n",
        "    [1,2,4,6],\n",
        "    [8,10,12,14],\n",
        "    [16,18,20,22],\n",
        "    [24,26,28,30]\n",
        "]\n",
        "print(matrik)"
      ],
      "metadata": {
        "colab": {
          "base_uri": "https://localhost:8080/"
        },
        "id": "SSUISCEzFBoE",
        "outputId": "6ac3b3d4-720d-4794-9b46-06dfd1297003"
      },
      "execution_count": null,
      "outputs": [
        {
          "output_type": "stream",
          "name": "stdout",
          "text": [
            "[[1, 2, 4, 6], [8, 10, 12, 14], [16, 18, 20, 22], [24, 26, 28, 30]]\n"
          ]
        }
      ]
    },
    {
      "cell_type": "code",
      "source": [
        "#kita akan mengambil matrik \"1\"\n",
        "matrik[1]"
      ],
      "metadata": {
        "colab": {
          "base_uri": "https://localhost:8080/"
        },
        "id": "p5tp3uwgF8qg",
        "outputId": "af77e502-3764-49c9-c917-bfd6a580d214"
      },
      "execution_count": null,
      "outputs": [
        {
          "output_type": "execute_result",
          "data": {
            "text/plain": [
              "[8, 10, 12, 14]"
            ]
          },
          "metadata": {},
          "execution_count": 2
        }
      ]
    },
    {
      "cell_type": "code",
      "source": [
        "#kita akan coba mengambil matrik \"1\" \"2\"\n",
        "matrik[1][2]"
      ],
      "metadata": {
        "colab": {
          "base_uri": "https://localhost:8080/"
        },
        "id": "GTocnKAkGS5R",
        "outputId": "f05af3d7-484d-407f-f1f1-630ee1d0baf3"
      },
      "execution_count": null,
      "outputs": [
        {
          "output_type": "execute_result",
          "data": {
            "text/plain": [
              "12"
            ]
          },
          "metadata": {},
          "execution_count": 3
        }
      ]
    },
    {
      "cell_type": "code",
      "source": [
        "#kita akan mencoba matrik \"3\" \"3\"\n",
        "matrik[3][3]"
      ],
      "metadata": {
        "colab": {
          "base_uri": "https://localhost:8080/"
        },
        "id": "NS581euhGdtB",
        "outputId": "cf86195a-eaa3-40ee-924c-26505349b5d1"
      },
      "execution_count": null,
      "outputs": [
        {
          "output_type": "execute_result",
          "data": {
            "text/plain": [
              "30"
            ]
          },
          "metadata": {},
          "execution_count": 4
        }
      ]
    },
    {
      "cell_type": "code",
      "source": [
        "#dari data diatas kita bisa juga mengganti nilai matrik \"3\" \"3\" menjadi 60\n",
        "matrik[3][3]= 60\n",
        "print(matrik[3][3])"
      ],
      "metadata": {
        "colab": {
          "base_uri": "https://localhost:8080/"
        },
        "id": "mIKwqxfZGmsW",
        "outputId": "cfcfce9f-6770-431e-9cc0-52f83799fb53"
      },
      "execution_count": null,
      "outputs": [
        {
          "output_type": "stream",
          "name": "stdout",
          "text": [
            "60\n"
          ]
        }
      ]
    },
    {
      "cell_type": "code",
      "source": [
        "#kita print lagi matrik\n",
        "matrik\n",
        "#maka akan tergantikan nilai dari matrik \"3\" \"3\" menjadi 60"
      ],
      "metadata": {
        "colab": {
          "base_uri": "https://localhost:8080/"
        },
        "id": "Q9wvVh4iG_pc",
        "outputId": "f853fbfc-0a81-49fc-f924-3b8576d56229"
      },
      "execution_count": null,
      "outputs": [
        {
          "output_type": "execute_result",
          "data": {
            "text/plain": [
              "[[1, 2, 4, 6], [8, 10, 12, 14], [16, 18, 20, 22], [24, 26, 28, 60]]"
            ]
          },
          "metadata": {},
          "execution_count": 6
        }
      ]
    },
    {
      "cell_type": "code",
      "source": [
        "#disini kita akan membuat matrik baris menjadi matrik kolom \n",
        "for baris in matrik:\n",
        "    print(baris)\n",
        "    for kolom in baris:\n",
        "         print(kolom)"
      ],
      "metadata": {
        "colab": {
          "base_uri": "https://localhost:8080/"
        },
        "id": "VjfeSHGRHckb",
        "outputId": "2000f6d5-c62e-4498-ddfe-cd0fe50668ba"
      },
      "execution_count": null,
      "outputs": [
        {
          "output_type": "stream",
          "name": "stdout",
          "text": [
            "[1, 2, 4, 6]\n",
            "1\n",
            "2\n",
            "4\n",
            "6\n",
            "[8, 10, 12, 14]\n",
            "8\n",
            "10\n",
            "12\n",
            "14\n",
            "[16, 18, 20, 22]\n",
            "16\n",
            "18\n",
            "20\n",
            "22\n",
            "[24, 26, 28, 60]\n",
            "24\n",
            "26\n",
            "28\n",
            "60\n"
          ]
        }
      ]
    },
    {
      "cell_type": "code",
      "source": [
        "#Latihan List 2 Dimensi 2\n",
        "\n",
        "#pertama List minuman dengan 2 dimensi\n",
        "list_minuman = [\n",
        "    [\"Teh\", \"Kopi\", \"Susu\"],\n",
        "    [\"Jus Sirsak\", \"Jus Semangka\", \"Jus Jeruk\"],\n",
        "    [\"Es Kopi\", \"Es Campur\", \"Es Teler\"]\n",
        "]\n",
        "\n",
        "# Cara mengakses list 2 dimensi\n",
        "# misalkan kita ingin mengambil \"es kopi\"\n",
        "print(list_minuman[2][0])"
      ],
      "metadata": {
        "colab": {
          "base_uri": "https://localhost:8080/"
        },
        "id": "GdAVmXtxHymE",
        "outputId": "a12a43cd-0c04-4c44-a73b-2303bb5049d7"
      },
      "execution_count": null,
      "outputs": [
        {
          "output_type": "stream",
          "name": "stdout",
          "text": [
            "Es Kopi\n"
          ]
        }
      ]
    },
    {
      "cell_type": "code",
      "source": [
        "#datanya masih sama seperti diatas\n",
        "#pertama List minuman dengan 2 dimensi\n",
        "list_minuman = [\n",
        "    [\"Teh\", \"Kopi\", \"Susu\"],\n",
        "    [\"Jus Sirsak\", \"Jus Semangka\", \"Jus Jeruk\"],\n",
        "    [\"Es Kopi\", \"Es Campur\", \"Es Teler\"]\n",
        "]\n",
        "\n",
        "#kita ingin menampilkan semua isi dalam list\n",
        "for menu in list_minuman:\n",
        "    for minuman in menu:\n",
        "        print(minuman)"
      ],
      "metadata": {
        "colab": {
          "base_uri": "https://localhost:8080/"
        },
        "id": "mcP0-f71KTsi",
        "outputId": "89db7f97-33d1-4b53-8d95-ef5908f5cbf0"
      },
      "execution_count": null,
      "outputs": [
        {
          "output_type": "stream",
          "name": "stdout",
          "text": [
            "Teh\n",
            "Kopi\n",
            "Susu\n",
            "Jus Sirsak\n",
            "Jus Semangka\n",
            "Jus Jeruk\n",
            "Es Kopi\n",
            "Es Campur\n",
            "Es Teler\n"
          ]
        }
      ]
    },
    {
      "cell_type": "markdown",
      "source": [
        "# 5.17 Tuples \n",
        "Tuples dalam Python adalah stuktur data yang digunakan untuk menyimpan sekumpulan data. Mirip dengan list hanya tetapi tuples tidak dapat dirubah dan dihapus isinya"
      ],
      "metadata": {
        "id": "QlAC3NGgMovf"
      }
    },
    {
      "cell_type": "code",
      "source": [
        "#Latihan Tuples 1\n",
        "\n",
        "#pertama kita list terlebih dahulu datanya\n",
        "angka = (0,0,1,2,2,3,4,5)\n",
        "#lalu kita print angka \"1\" maka ouput nya adalah 0 \n",
        "print(angka[1])"
      ],
      "metadata": {
        "colab": {
          "base_uri": "https://localhost:8080/"
        },
        "id": "B4vvbOQ8M_xA",
        "outputId": "e3771021-3431-440d-f2f9-9fcba39f88c5"
      },
      "execution_count": null,
      "outputs": [
        {
          "output_type": "stream",
          "name": "stdout",
          "text": [
            "0\n"
          ]
        }
      ]
    },
    {
      "cell_type": "code",
      "source": [
        "#lalu kita akan print \"0:4\" \n",
        "print(angka[0:4])"
      ],
      "metadata": {
        "colab": {
          "base_uri": "https://localhost:8080/"
        },
        "id": "q973L7njOQIC",
        "outputId": "8e5e21f8-9734-4feb-a784-32ab4a8e24bf"
      },
      "execution_count": null,
      "outputs": [
        {
          "output_type": "stream",
          "name": "stdout",
          "text": [
            "(0, 0, 1, 2)\n"
          ]
        }
      ]
    },
    {
      "cell_type": "code",
      "source": [
        "#dari data diatas kita akan buat dari baris menjadi kolom\n",
        "for isi in angka [0:4]:\n",
        "    print(isi)"
      ],
      "metadata": {
        "colab": {
          "base_uri": "https://localhost:8080/"
        },
        "id": "JRCQDkLfOmUN",
        "outputId": "fa4a49bb-fc3d-4fe9-c892-5f88c1404525"
      },
      "execution_count": null,
      "outputs": [
        {
          "output_type": "stream",
          "name": "stdout",
          "text": [
            "0\n",
            "0\n",
            "1\n",
            "2\n"
          ]
        }
      ]
    },
    {
      "cell_type": "code",
      "source": [
        "#kita akan mengubah angka \"0\" menjadi \"10\"\n",
        "angka[0] = 10\n",
        "#akan eror karena dari penjelasan diatas bahwa tuples tidak dapat diubah"
      ],
      "metadata": {
        "colab": {
          "base_uri": "https://localhost:8080/",
          "height": 200
        },
        "id": "HAljjJ4XPFjg",
        "outputId": "c171dcc0-4089-4d18-9ccf-2e378a93ba65"
      },
      "execution_count": null,
      "outputs": [
        {
          "output_type": "error",
          "ename": "TypeError",
          "evalue": "ignored",
          "traceback": [
            "\u001b[0;31m---------------------------------------------------------------------------\u001b[0m",
            "\u001b[0;31mTypeError\u001b[0m                                 Traceback (most recent call last)",
            "\u001b[0;32m<ipython-input-4-52daf97ea497>\u001b[0m in \u001b[0;36m<cell line: 2>\u001b[0;34m()\u001b[0m\n\u001b[1;32m      1\u001b[0m \u001b[0;31m#kita akan mengubah angka \"0\" menjadi \"10\"\u001b[0m\u001b[0;34m\u001b[0m\u001b[0;34m\u001b[0m\u001b[0m\n\u001b[0;32m----> 2\u001b[0;31m \u001b[0mangka\u001b[0m\u001b[0;34m[\u001b[0m\u001b[0;36m0\u001b[0m\u001b[0;34m]\u001b[0m \u001b[0;34m=\u001b[0m \u001b[0;36m10\u001b[0m\u001b[0;34m\u001b[0m\u001b[0;34m\u001b[0m\u001b[0m\n\u001b[0m\u001b[1;32m      3\u001b[0m \u001b[0;31m#akan eror karena dari penjelasan diatas bahwa tuples tidak dapat diubah\u001b[0m\u001b[0;34m\u001b[0m\u001b[0;34m\u001b[0m\u001b[0m\n",
            "\u001b[0;31mTypeError\u001b[0m: 'tuple' object does not support item assignment"
          ]
        }
      ]
    },
    {
      "cell_type": "code",
      "source": [
        "#jika kita eksekusi akan eror karena tuples tidak dapat dirubah \n",
        "angka.append(10)"
      ],
      "metadata": {
        "colab": {
          "base_uri": "https://localhost:8080/",
          "height": 183
        },
        "id": "53M5Rob1PnbI",
        "outputId": "7ffc68f4-83e1-46f7-a4e8-0796c9911c2d"
      },
      "execution_count": null,
      "outputs": [
        {
          "output_type": "error",
          "ename": "AttributeError",
          "evalue": "ignored",
          "traceback": [
            "\u001b[0;31m---------------------------------------------------------------------------\u001b[0m",
            "\u001b[0;31mAttributeError\u001b[0m                            Traceback (most recent call last)",
            "\u001b[0;32m<ipython-input-5-8a14fecacc39>\u001b[0m in \u001b[0;36m<cell line: 2>\u001b[0;34m()\u001b[0m\n\u001b[1;32m      1\u001b[0m \u001b[0;31m#jika kita eksekusi akan eror karena tuples tidak dapat dirubah\u001b[0m\u001b[0;34m\u001b[0m\u001b[0;34m\u001b[0m\u001b[0m\n\u001b[0;32m----> 2\u001b[0;31m \u001b[0mangka\u001b[0m\u001b[0;34m.\u001b[0m\u001b[0mappend\u001b[0m\u001b[0;34m(\u001b[0m\u001b[0;36m10\u001b[0m\u001b[0;34m)\u001b[0m\u001b[0;34m\u001b[0m\u001b[0;34m\u001b[0m\u001b[0m\n\u001b[0m",
            "\u001b[0;31mAttributeError\u001b[0m: 'tuple' object has no attribute 'append'"
          ]
        }
      ]
    },
    {
      "cell_type": "code",
      "source": [
        "#sama seperti diatas bahwa tidak dapat dirubah\n",
        "angka.remove(5)"
      ],
      "metadata": {
        "colab": {
          "base_uri": "https://localhost:8080/",
          "height": 183
        },
        "id": "NVGemSycQlN7",
        "outputId": "7afe955a-56f5-4c71-e79a-729407bd70ae"
      },
      "execution_count": null,
      "outputs": [
        {
          "output_type": "error",
          "ename": "AttributeError",
          "evalue": "ignored",
          "traceback": [
            "\u001b[0;31m---------------------------------------------------------------------------\u001b[0m",
            "\u001b[0;31mAttributeError\u001b[0m                            Traceback (most recent call last)",
            "\u001b[0;32m<ipython-input-6-7c754dad8ec9>\u001b[0m in \u001b[0;36m<cell line: 2>\u001b[0;34m()\u001b[0m\n\u001b[1;32m      1\u001b[0m \u001b[0;31m#sama seperti diatas bahwa tidak dapat dirubah\u001b[0m\u001b[0;34m\u001b[0m\u001b[0;34m\u001b[0m\u001b[0m\n\u001b[0;32m----> 2\u001b[0;31m \u001b[0mangka\u001b[0m\u001b[0;34m.\u001b[0m\u001b[0mremove\u001b[0m\u001b[0;34m(\u001b[0m\u001b[0;36m5\u001b[0m\u001b[0;34m)\u001b[0m\u001b[0;34m\u001b[0m\u001b[0;34m\u001b[0m\u001b[0m\n\u001b[0m",
            "\u001b[0;31mAttributeError\u001b[0m: 'tuple' object has no attribute 'remove'"
          ]
        }
      ]
    },
    {
      "cell_type": "code",
      "source": [
        "#fungsi count() ini akan mengembalikan jumlah total elemen yang diberikan dalam sebuah string\n",
        "angka.count(2)"
      ],
      "metadata": {
        "colab": {
          "base_uri": "https://localhost:8080/"
        },
        "id": "ZZvB7GkZRKIZ",
        "outputId": "d3621a4d-78b3-4ea7-dd41-c9140e8c373d"
      },
      "execution_count": null,
      "outputs": [
        {
          "output_type": "execute_result",
          "data": {
            "text/plain": [
              "2"
            ]
          },
          "metadata": {},
          "execution_count": 7
        }
      ]
    },
    {
      "cell_type": "code",
      "source": [
        "#fungsi index() digunakan untuk mengetahui posisi elemen pada list pemograman python\n",
        "angka.index(3)"
      ],
      "metadata": {
        "colab": {
          "base_uri": "https://localhost:8080/"
        },
        "id": "bNnUq3jZRVXA",
        "outputId": "c5a9a7bd-cc14-465b-85cd-cb23d1be8ec4"
      },
      "execution_count": null,
      "outputs": [
        {
          "output_type": "execute_result",
          "data": {
            "text/plain": [
              "5"
            ]
          },
          "metadata": {},
          "execution_count": 8
        }
      ]
    },
    {
      "cell_type": "code",
      "source": [
        "#Latihan Tuples 2\n",
        "\n",
        "#Kita dapat menggunakan tuples untuk menukar nilai yang terkait dengan variabel, hanya jika variabelnya adalah elemen tupel\n",
        "x = 15\n",
        "y = 51\n",
        "print(\"sebelum ditukar:\")\n",
        "print(f\"x = {x}, y = {y}\")\n",
        "(x, y) = (y, x)\n",
        "print(\"sesudah ditukar:\")\n",
        "print(f\"x = {x}, y = {y}\")\n",
        "#maka ouputnya akan menukar nilai dari x menjadi y dan y menjadi x"
      ],
      "metadata": {
        "colab": {
          "base_uri": "https://localhost:8080/"
        },
        "id": "uRQBp-CcSbqD",
        "outputId": "b37be4ce-fb21-421c-fd56-57fc47315e7d"
      },
      "execution_count": null,
      "outputs": [
        {
          "output_type": "stream",
          "name": "stdout",
          "text": [
            "sebelum ditukar:\n",
            "x = 15, y = 51\n",
            "sesudah ditukar:\n",
            "x = 51, y = 15\n"
          ]
        }
      ]
    },
    {
      "cell_type": "code",
      "source": [
        "#Latihan Tuples 3\n",
        "\n",
        "#disini kita mengambil jumlah item didalam tuples \n",
        "#kita bisa menggunakan fungsi len()\n",
        "# Membuat data\n",
        "hari = (\"Senin\", \"Selasa\", \"Rabu\", \"Kamis\", \"Jumat\", \"Sabtu\", \"Minggu\")\n",
        "\n",
        "# Mengambil jumlah item hari\n",
        "print(\"Jumlah hari: %d\" % len(hari))"
      ],
      "metadata": {
        "colab": {
          "base_uri": "https://localhost:8080/"
        },
        "id": "3apDGX8YVF5q",
        "outputId": "9c53d2aa-03d1-4cd2-e2c3-18fac21bc08e"
      },
      "execution_count": null,
      "outputs": [
        {
          "output_type": "stream",
          "name": "stdout",
          "text": [
            "Jumlah hari: 7\n"
          ]
        }
      ]
    },
    {
      "cell_type": "code",
      "source": [
        "#Latihan Tuples 4\n",
        "\n",
        "#pertama kita list terlebih dahulu yang ingin kita list, misalkan\n",
        "nama_buah = (\"Sirsak\" , \"Melon\" , \"Semangka\" , \"Klengkeng\")\n",
        "#lalu kita print\n",
        "print(nama_buah[0:1])\n",
        "print(nama_buah[0:2])\n",
        "print(nama_buah[1:3])\n",
        "print(nama_buah[0:-1])\n",
        "print(nama_buah[-1:-3])\n",
        "print(nama_buah[-1:3])\n",
        "print(nama_buah[-3:-1])\n",
        "#tuples ini dilakukan menggunakan batas sebelah kanan mau pun sebelah kiri"
      ],
      "metadata": {
        "colab": {
          "base_uri": "https://localhost:8080/"
        },
        "id": "33yWOSAZ-q7c",
        "outputId": "1816be2a-ad1f-4454-970f-590595209dc4"
      },
      "execution_count": null,
      "outputs": [
        {
          "output_type": "stream",
          "name": "stdout",
          "text": [
            "('Sirsak',)\n",
            "('Sirsak', 'Melon')\n",
            "('Melon', 'Semangka')\n",
            "('Sirsak', 'Melon', 'Semangka')\n",
            "()\n",
            "()\n",
            "('Melon', 'Semangka')\n"
          ]
        }
      ]
    },
    {
      "cell_type": "code",
      "source": [
        "#kita list lagi seperti diatas \n",
        "nama_buah = (\"Sirsak\" , \"Melon\" , \"Semangka\" , \"Klengkeng\")\n",
        "#lalu kita print, tetapi disini kita print tanpa harus mendefinisikan batas sebelah kanan maupun sebelah kiri\n",
        "print(nama_buah[0:])\n",
        "print(nama_buah[1:])\n",
        "print(nama_buah[2:])\n",
        "print(nama_buah[3:])\n",
        "print(nama_buah[:0])\n",
        "print(nama_buah[:1])\n",
        "print(nama_buah[:2])\n",
        "print(nama_buah[:3])\n",
        "print(nama_buah[:4])\n"
      ],
      "metadata": {
        "colab": {
          "base_uri": "https://localhost:8080/"
        },
        "id": "AUxhQ6KX-8GM",
        "outputId": "13c24b44-b258-403f-ad53-68e9c47c4391"
      },
      "execution_count": null,
      "outputs": [
        {
          "output_type": "stream",
          "name": "stdout",
          "text": [
            "('Sirsak', 'Melon', 'Semangka', 'Klengkeng')\n",
            "('Melon', 'Semangka', 'Klengkeng')\n",
            "('Semangka', 'Klengkeng')\n",
            "('Klengkeng',)\n",
            "()\n",
            "('Sirsak',)\n",
            "('Sirsak', 'Melon')\n",
            "('Sirsak', 'Melon', 'Semangka')\n",
            "('Sirsak', 'Melon', 'Semangka', 'Klengkeng')\n"
          ]
        }
      ]
    },
    {
      "cell_type": "markdown",
      "source": [
        "# 5.18 Dictionaries\n",
        "Dictionaries digunakan jika data nya terkait satu sama lain. Misalnya data\n",
        "seseorang yang terdiri dari umur, nama, tanggal lahir merupakan satu kesatuan\n",
        "data yang bersumber dari orang tersebut."
      ],
      "metadata": {
        "id": "A0TRNzxebTR8"
      }
    },
    {
      "cell_type": "code",
      "source": [
        "# Latihan Dictionaries 1\n",
        "\n",
        "#pertama kita buat terlebih dahulu data orang\n",
        "#data dibawah ini adalah data yang berkaitan \n",
        "data_orang = {\n",
        "    \"nama\" : \"Sultan\" ,\n",
        "    \"umur\": 23,\n",
        "    \"apakah_singel\" : False\n",
        "}"
      ],
      "metadata": {
        "id": "mvIz9Sw9bfFL"
      },
      "execution_count": null,
      "outputs": []
    },
    {
      "cell_type": "code",
      "source": [
        "#lalu kita akan print \"nama\"\n",
        "print(data_orang[\"nama\"])"
      ],
      "metadata": {
        "colab": {
          "base_uri": "https://localhost:8080/"
        },
        "id": "6l0CAkOGdAKK",
        "outputId": "185787b6-1b9c-40be-e30d-94e4c0ab620e"
      },
      "execution_count": null,
      "outputs": [
        {
          "output_type": "stream",
          "name": "stdout",
          "text": [
            "Sultan\n"
          ]
        }
      ]
    },
    {
      "cell_type": "code",
      "source": [
        "#jika kita eksekusi akan eror karena pada \"data orang\"mengunakan \"nama\" bakan \"Nama\"\n",
        "print(data_orang[\"Nama\"])"
      ],
      "metadata": {
        "colab": {
          "base_uri": "https://localhost:8080/",
          "height": 200
        },
        "id": "KjNfg3S4dKG2",
        "outputId": "33b8d12c-9e15-4cff-d007-382b1cfb976d"
      },
      "execution_count": null,
      "outputs": [
        {
          "output_type": "error",
          "ename": "KeyError",
          "evalue": "ignored",
          "traceback": [
            "\u001b[0;31m---------------------------------------------------------------------------\u001b[0m",
            "\u001b[0;31mKeyError\u001b[0m                                  Traceback (most recent call last)",
            "\u001b[0;32m<ipython-input-3-3e3451c3e543>\u001b[0m in \u001b[0;36m<cell line: 2>\u001b[0;34m()\u001b[0m\n\u001b[1;32m      1\u001b[0m \u001b[0;31m#jika kita eksekusi akan eror karena pada data orang yang sudah dibuat itu mengunakan \"nama\" bakan \"Nama\"\u001b[0m\u001b[0;34m\u001b[0m\u001b[0;34m\u001b[0m\u001b[0m\n\u001b[0;32m----> 2\u001b[0;31m \u001b[0mprint\u001b[0m\u001b[0;34m(\u001b[0m\u001b[0mdata_orang\u001b[0m\u001b[0;34m[\u001b[0m\u001b[0;34m\"Nama\"\u001b[0m\u001b[0;34m]\u001b[0m\u001b[0;34m)\u001b[0m\u001b[0;34m\u001b[0m\u001b[0;34m\u001b[0m\u001b[0m\n\u001b[0m",
            "\u001b[0;31mKeyError\u001b[0m: 'Nama'"
          ]
        }
      ]
    },
    {
      "cell_type": "code",
      "source": [
        "#kita akan print data orang menggunakan get,dimana get untuk mendapatkan nilai kunci elemen dari data bertipe dictionaries\n",
        "print(data_orang.get(\"nama\"))"
      ],
      "metadata": {
        "colab": {
          "base_uri": "https://localhost:8080/"
        },
        "id": "stcf27ywdtLY",
        "outputId": "947a98dd-3192-4afa-a9a6-147f2baa4e5e"
      },
      "execution_count": null,
      "outputs": [
        {
          "output_type": "stream",
          "name": "stdout",
          "text": [
            "Sultan\n"
          ]
        }
      ]
    },
    {
      "cell_type": "code",
      "source": [
        "#jika di eksekusi akan menghasilkan \"None\" karena data orang menggunakan \"nama\" bukan \"Nama\"\n",
        "#mengapa tidak eror karena kita menggunakan get, dimana get berfungsi untuk mendapatkan nilai kunci elemen dari data bertipe dictionaries\n",
        "print(data_orang.get(\"Nama\"))"
      ],
      "metadata": {
        "colab": {
          "base_uri": "https://localhost:8080/"
        },
        "id": "YCFL-ikVd3nL",
        "outputId": "b9587bf2-00f6-4f75-e05c-ae7cc917e5a7"
      },
      "execution_count": null,
      "outputs": [
        {
          "output_type": "stream",
          "name": "stdout",
          "text": [
            "None\n"
          ]
        }
      ]
    },
    {
      "cell_type": "code",
      "source": [
        "#jika di eksekusi akan menghasilkan \"None\" karena data orang diatas tidak membuat \"tanggal lahir\" jadi tidak dapat ditelusuri\n",
        "#mengapa tidak eror karena kita menggunakan get, dimana get berfungsi untuk mendapatkan nilai kunci elemen dari data bertipe dictionaries\n",
        "print(data_orang.get(\"tanggal_lahir\"))"
      ],
      "metadata": {
        "colab": {
          "base_uri": "https://localhost:8080/"
        },
        "id": "wR1jURBmd-qd",
        "outputId": "77e63947-96e4-4cef-e730-16031876ff80"
      },
      "execution_count": null,
      "outputs": [
        {
          "output_type": "stream",
          "name": "stdout",
          "text": [
            "None\n"
          ]
        }
      ]
    },
    {
      "cell_type": "code",
      "source": [
        "#disini kita akan menambahkan \"tanggal lahir\"\n",
        "print(data_orang.get(\"tanggal_lahir\" , \"12-4-2000\"))"
      ],
      "metadata": {
        "colab": {
          "base_uri": "https://localhost:8080/"
        },
        "id": "Clu2ceD9eEZ0",
        "outputId": "1033b51a-9d78-433f-fb98-b58c0edd616f"
      },
      "execution_count": null,
      "outputs": [
        {
          "output_type": "stream",
          "name": "stdout",
          "text": [
            "12-4-2000\n"
          ]
        }
      ]
    },
    {
      "cell_type": "code",
      "source": [
        "#lalu kita print data orang tersebut\n",
        "print(data_orang)"
      ],
      "metadata": {
        "colab": {
          "base_uri": "https://localhost:8080/"
        },
        "id": "SU-DdOoTeIlW",
        "outputId": "5befad7b-8e25-43c6-db5a-77a58f5baf5c"
      },
      "execution_count": null,
      "outputs": [
        {
          "output_type": "stream",
          "name": "stdout",
          "text": [
            "{'nama': 'Sultan', 'umur': 23, 'apakah_singel': False}\n"
          ]
        }
      ]
    },
    {
      "cell_type": "code",
      "source": [
        "#jika kita eksekusi akan eror karena pada data orang yang sudah dibuat tidak membuat \"tanggal lahir\" jadi tidak dapat ditelusuri\n",
        "print(data_orang[\"tanggal_lahir\"])"
      ],
      "metadata": {
        "colab": {
          "base_uri": "https://localhost:8080/",
          "height": 183
        },
        "id": "yZDDGRadeQJT",
        "outputId": "7b9bdebf-fc84-4b80-e6e4-f04410c80892"
      },
      "execution_count": null,
      "outputs": [
        {
          "output_type": "error",
          "ename": "KeyError",
          "evalue": "ignored",
          "traceback": [
            "\u001b[0;31m---------------------------------------------------------------------------\u001b[0m",
            "\u001b[0;31mKeyError\u001b[0m                                  Traceback (most recent call last)",
            "\u001b[0;32m<ipython-input-10-35ed582f2dec>\u001b[0m in \u001b[0;36m<cell line: 2>\u001b[0;34m()\u001b[0m\n\u001b[1;32m      1\u001b[0m \u001b[0;31m#\u001b[0m\u001b[0;34m\u001b[0m\u001b[0;34m\u001b[0m\u001b[0m\n\u001b[0;32m----> 2\u001b[0;31m \u001b[0mprint\u001b[0m\u001b[0;34m(\u001b[0m\u001b[0mdata_orang\u001b[0m\u001b[0;34m[\u001b[0m\u001b[0;34m\"tanggal_lahir\"\u001b[0m\u001b[0;34m]\u001b[0m\u001b[0;34m)\u001b[0m\u001b[0;34m\u001b[0m\u001b[0;34m\u001b[0m\u001b[0m\n\u001b[0m",
            "\u001b[0;31mKeyError\u001b[0m: 'tanggal_lahir'"
          ]
        }
      ]
    },
    {
      "cell_type": "code",
      "source": [
        "#Larihan Dictionaries 2\n",
        "\n",
        "pertemuan_hari_ini = {\n",
        "  \"judul\": \"Belajar Dictionaries 2 Pada Python \",\n",
        "  \"tanggal\": \"3 April 2023\",\n",
        "  \"share_count\": {\n",
        "    \"instagram\": 1,\n",
        "    \"twitter\": 2\n",
        "  }\n",
        "}\n",
        "#kita akan print judul\n",
        "print(\"Judul:\", pertemuan_hari_ini.get(\"judul\"))\n",
        "#dan kita akan print tanggal\n",
        "print(\"Tanggal:\", pertemuan_hari_ini[\"tanggal\"])\n",
        "\n",
        "# bisa menggunakan fungsi berantai untuk dictionary bertingkat\n",
        "print(\"Instagram share:\", pertemuan_hari_ini.get(\"share_count\").get(\"instagram\"))\n",
        "# bisa juga dengan kurung siku dua-duanya\n",
        "print(\"Twitter share:\", pertemuan_hari_ini[\"share_count\"][\"twitter\"])"
      ],
      "metadata": {
        "colab": {
          "base_uri": "https://localhost:8080/"
        },
        "id": "RJBKKW_lhQF4",
        "outputId": "6fafc4a4-fef3-4015-9fb5-b637d791074d"
      },
      "execution_count": null,
      "outputs": [
        {
          "output_type": "stream",
          "name": "stdout",
          "text": [
            "Judul: Belajar Dictionaries 2 Pada Python \n",
            "Tanggal: 3 April 2023\n",
            "Instagram share: 1\n",
            "Twitter share: 2\n"
          ]
        }
      ]
    },
    {
      "cell_type": "code",
      "source": [
        "#Latihan Dictionaries 3\n",
        "\n",
        "#disini kita akan menggunakan perulangan \n",
        "mahasiswa = {\n",
        "    \"nama\" : \"Ruth\" ,\n",
        "    \"nim\"  : \"2208541028\"\n",
        "}\n",
        "#jika dijalankan kita akan mendapatkan\n",
        "for key in mahasiswa:\n",
        "  print(key, \"->\" , mahasiswa[key])"
      ],
      "metadata": {
        "colab": {
          "base_uri": "https://localhost:8080/"
        },
        "id": "nKQRNoZyl7R4",
        "outputId": "4a163cdf-d457-4e4b-ebac-9e74d8318080"
      },
      "execution_count": null,
      "outputs": [
        {
          "output_type": "stream",
          "name": "stdout",
          "text": [
            "nama -> Ruth\n",
            "nim -> 2208541028\n"
          ]
        }
      ]
    },
    {
      "cell_type": "code",
      "source": [
        "#disini kita akan menggunakan mengubah nilai item\n",
        "#kita coba menggunakan data seperti yang diatas\n",
        "mahasiswa = {\n",
        "    \"nama\" : \"Ruth\" \n",
        "  }\n",
        "#maka akan mengubah datanya\n",
        "print(\"Nama awal:\", mahasiswa.get(\"nama\"))\n",
        "mahasiswa[\"nama\"] = \"Ari\"\n",
        "print(\"Setelah diubah:\", mahasiswa.get(\"nama\"))\n",
        "#Jika dieksekusi, sistem akan memberikan kita output"
      ],
      "metadata": {
        "colab": {
          "base_uri": "https://localhost:8080/"
        },
        "id": "t1r8nab8n5yB",
        "outputId": "fbb76ddd-f362-4ff1-a05e-f4ce21a41d77"
      },
      "execution_count": null,
      "outputs": [
        {
          "output_type": "stream",
          "name": "stdout",
          "text": [
            "Nama awal: Ruth\n",
            "Setelah diubah: Ari\n"
          ]
        }
      ]
    },
    {
      "cell_type": "code",
      "source": [
        "#disini kita akan menggunakan menambahkan nilai item\n",
        "#kita coba menggunakan data seperti yang diatas\n",
        "mahasiswa = {\n",
        "    \"nama\" : \"Ruth\" \n",
        "  }\n",
        "#output None nya\n",
        "print(\"Hobi:\", mahasiswa.get(\"hobi\"))\n",
        "#kita tambah datanya\n",
        "mahasiswa[\"hobi\"] = \"Berenang\"\n",
        "#kita print ulang\n",
        "print(\"Hobi dari {} adalah {}\".format(\n",
        "  mahasiswa.get('nama'),\n",
        "  mahasiswa.get('hobi')\n",
        "))\n",
        "#Jika dieksekusi, sistem akan memberikan kita output"
      ],
      "metadata": {
        "colab": {
          "base_uri": "https://localhost:8080/"
        },
        "id": "yFPKWBi6pRdX",
        "outputId": "28322fd4-c799-4cfc-aa4e-801a5143d966"
      },
      "execution_count": null,
      "outputs": [
        {
          "output_type": "stream",
          "name": "stdout",
          "text": [
            "Hobi: None\n",
            "Hobi dari Ruth adalah Berenang\n"
          ]
        }
      ]
    },
    {
      "cell_type": "code",
      "source": [
        "#disini kita akan menggunakan menghapus nilai item\n",
        "#kita coba menggunakan data seperti yang diatas\n",
        "mahasiswa = {\n",
        "    \"nama\" : \"Ruth\",\n",
        "    \"nim\"  :\"2208541028\"\n",
        " }\n",
        "#maka akan menghapus datanya\n",
        "del mahasiswa[\"nama\"]\n",
        "mahasiswa.pop(\"nim\")\n",
        "#Jika dieksekusi, sistem akan memberikan kita output"
      ],
      "metadata": {
        "colab": {
          "base_uri": "https://localhost:8080/",
          "height": 35
        },
        "id": "0Wlb1oauqiAs",
        "outputId": "946eb6fb-252d-4a8c-81e7-3ba6ac806ea2"
      },
      "execution_count": null,
      "outputs": [
        {
          "output_type": "execute_result",
          "data": {
            "text/plain": [
              "'2208541028'"
            ],
            "application/vnd.google.colaboratory.intrinsic+json": {
              "type": "string"
            }
          },
          "metadata": {},
          "execution_count": 14
        }
      ]
    },
    {
      "cell_type": "markdown",
      "source": [
        "# 5.19 Fungsi dalam Python\n",
        "Fungsi pada python merupakan bagian atau blok program yang memiliki tugas tertentu. Fungsi pada python dapat digunakan berulang atau re-usable, kita hanya cukup sekali mendefinisikan fungsi dan ditempat lain pun bisa menggunakannya selama dalam satu program."
      ],
      "metadata": {
        "id": "0LCBkjKt0hq9"
      }
    },
    {
      "cell_type": "code",
      "source": [
        "#Latihan Fungsi dalam Python 1\n",
        "\n",
        "#disini kita akan menginput nama depan dan nama belakang\n",
        "def full_nama(first_name,last_name):\n",
        "  print(f\"Nama lengkapnya adalah {nama_depan} {nama_belakang}\")\n",
        "  \n",
        "first_name = input(\"Nama depan saya adalah \")\n",
        "last_name = input(\"Nama belakang saya adalah \")\n",
        "full_nama = input(\"nama_depan,nama_belakang \")\n",
        "\n"
      ],
      "metadata": {
        "colab": {
          "base_uri": "https://localhost:8080/"
        },
        "id": "ZlFQZwOF00kW",
        "outputId": "00facd2b-664f-4f58-f1ee-2bd13a99dc9e"
      },
      "execution_count": null,
      "outputs": [
        {
          "name": "stdout",
          "output_type": "stream",
          "text": [
            "Nama depan saya adalah Ruth\n",
            "Nama belakang saya adalah Manik\n",
            "nama_depan,nama_belakang Ruth Manik\n"
          ]
        }
      ]
    },
    {
      "cell_type": "code",
      "source": [
        "#Latihan Fungsi dalam Python 2\n",
        "\n",
        "#disini kita akan menginput berasal dan lahir\n",
        "kota = \"Medan\"\n",
        "\n",
        "def halo() :\n",
        "  print(kota)\n",
        "\n",
        "print(\"saya berasal dari \", kota)\n",
        "print(\"dan saya lahir di \", end= \" \")\n",
        "\n",
        "halo()"
      ],
      "metadata": {
        "colab": {
          "base_uri": "https://localhost:8080/"
        },
        "id": "EeJHZxXoOfXQ",
        "outputId": "961e9ad3-82bf-4cce-db26-de26aebfeadf"
      },
      "execution_count": 24,
      "outputs": [
        {
          "output_type": "stream",
          "name": "stdout",
          "text": [
            "saya berasal dari  Medan\n",
            "dan saya lahir di  Medan\n"
          ]
        }
      ]
    },
    {
      "cell_type": "markdown",
      "source": [
        "# 5.19.1 Tugas Fungsi pada Python\n",
        "Ada dua jenis tugas fungsi pada Python yaitu:\n",
        "menjalankan perintah, menampilkan hasil perhitungan."
      ],
      "metadata": {
        "id": "U_EFOs6tBZIj"
      }
    },
    {
      "cell_type": "code",
      "source": [
        "#Latihan Tugas Fungsi pada Python 1\n",
        "\n",
        "#disini kita akan membuat luas dari persegi\n",
        "def luas_persegi(sisi):\n",
        "    luas = sisi * sisi\n",
        "    return luas\n",
        "\n",
        "#lalu kita print fungsinya\n",
        "print(\"Luas persegi: %d\" % luas_persegi(5))"
      ],
      "metadata": {
        "colab": {
          "base_uri": "https://localhost:8080/"
        },
        "id": "bzrs_rQNBlqU",
        "outputId": "1af56ef5-39d2-41b7-eb78-c50f23a69c7d"
      },
      "execution_count": 17,
      "outputs": [
        {
          "output_type": "stream",
          "name": "stdout",
          "text": [
            "Luas persegi: 25\n"
          ]
        }
      ]
    },
    {
      "cell_type": "code",
      "source": [
        "#disini kita akan membuat luas dari segitiga\n",
        "def luas_segitiga(alas, tinggi):\n",
        "    luas = (alas * tinggi) / 2\n",
        "    print(\"Luas segitiga: %f\" % luas)\n",
        "\n",
        "#lalu kita print fungsinya\n",
        "luas_segitiga(2, 3)"
      ],
      "metadata": {
        "colab": {
          "base_uri": "https://localhost:8080/"
        },
        "id": "eqkMnQjoHF_H",
        "outputId": "4ed90b7a-c47c-48fa-e5fe-978a1239b4ed"
      },
      "execution_count": 6,
      "outputs": [
        {
          "output_type": "stream",
          "name": "stdout",
          "text": [
            "Luas segitiga: 3.000000\n"
          ]
        }
      ]
    },
    {
      "cell_type": "code",
      "source": [
        "#disini kita akan membuat volume dari kubus\n",
        "def volume_kubus(sisi):\n",
        "  volume = sisi **3\n",
        "  print('Volume Kubus adalah %0.2f' %volume)\n",
        "\n",
        "#lalu kita print fusinya\n",
        "volume_kubus(10)"
      ],
      "metadata": {
        "colab": {
          "base_uri": "https://localhost:8080/"
        },
        "id": "UDNMxybXGSaL",
        "outputId": "2c9ba832-277c-44dc-b135-b5627deb5be7"
      },
      "execution_count": 8,
      "outputs": [
        {
          "output_type": "stream",
          "name": "stdout",
          "text": [
            "Volume Kubus adalah 1000.00\n"
          ]
        }
      ]
    },
    {
      "cell_type": "code",
      "source": [
        " #Latihan Tugas Fungsi pada Python 2\n",
        " \n",
        " #jika return dieksekusi pada sebuah fungsi, maka semua proses yang ada di dalam blok kode fungsi tersebut akan berhenti\n",
        " #sehingga,jika kita memiliki lebih dari 1 buah return, maka hanya ada satu return saja yang dieksekusi\n",
        " #dan ketika sebuah return telah dieksekusi, semua perintah yang ada di bawahnya akan di-skip\n",
        " def persentase (total, jumlah):\n",
        "  if (total >= 0 and total <= jumlah):\n",
        "    return total / jumlah * 200\n",
        "  \n",
        "  return False\n",
        "\n",
        "#output nya akan bernilai 100\n",
        "print(persentase(20, 40))\n",
        "\n",
        "#output nya akan bernilai False\n",
        "print(persentase(200, 40))\n"
      ],
      "metadata": {
        "colab": {
          "base_uri": "https://localhost:8080/"
        },
        "id": "_JK0qlkcLuZq",
        "outputId": "0d4f2303-4a0e-4880-d16b-4b2e9cd02bed"
      },
      "execution_count": 14,
      "outputs": [
        {
          "output_type": "stream",
          "name": "stdout",
          "text": [
            "100.0\n",
            "False\n"
          ]
        }
      ]
    },
    {
      "cell_type": "markdown",
      "source": [
        "# 5.20 Numpy\n",
        "Numpy merupakan salah satu Library dalam Python yang memiliki keunggulan\n",
        "dalam perhitungan menggunakan vektor,matrik, aljabar, statistik, dan sebagainya"
      ],
      "metadata": {
        "id": "zuZgv_5sQUVG"
      }
    },
    {
      "cell_type": "markdown",
      "source": [
        "# 5.20.1 Perintah Dasar pada Numpy\n",
        "paparan mengenai perintah memanggil Numpy, mengetahui dimensi dan ukuran variabel "
      ],
      "metadata": {
        "id": "m0QchWZPR8jO"
      }
    },
    {
      "cell_type": "code",
      "source": [
        "#Latihan Perintah Dasar pada Numpy 1\n",
        "\n",
        "# membuat array\n",
        "a = np.array([85, 55, 40, 90])\n",
        "# mengakses data pada array\n",
        "print(a)"
      ],
      "metadata": {
        "colab": {
          "base_uri": "https://localhost:8080/"
        },
        "id": "6Ef19fD_SSgj",
        "outputId": "993d1535-02f0-44af-eacc-ea902b337b4f"
      },
      "execution_count": 8,
      "outputs": [
        {
          "output_type": "stream",
          "name": "stdout",
          "text": [
            "[85 55 40 90]\n"
          ]
        }
      ]
    },
    {
      "cell_type": "code",
      "source": [
        "# membuat array\n",
        "b = np.array([22,44,55,66])\n",
        "# mengakses data pada array\n",
        "print(b)"
      ],
      "metadata": {
        "colab": {
          "base_uri": "https://localhost:8080/"
        },
        "id": "iTtg8wVQU_j2",
        "outputId": "93cee34c-2333-4347-a647-0f6a07d59d45"
      },
      "execution_count": 9,
      "outputs": [
        {
          "output_type": "stream",
          "name": "stdout",
          "text": [
            "[22 44 55 66]\n"
          ]
        }
      ]
    },
    {
      "cell_type": "code",
      "source": [
        "# membuat array\n",
        "c = np.array([[[0,0,0,0],[1,1,1,1]],\n",
        "              [[2,2,2,2],[3,3,3,3]],\n",
        "              [[4,4,4,4],[5,5,5,5]]])\n",
        "# mengakses data pada array\n",
        "print(c)"
      ],
      "metadata": {
        "colab": {
          "base_uri": "https://localhost:8080/"
        },
        "id": "H475bC46UbHz",
        "outputId": "032b5e90-810a-445e-ac67-0f80ddd0520d"
      },
      "execution_count": 10,
      "outputs": [
        {
          "output_type": "stream",
          "name": "stdout",
          "text": [
            "[[[0 0 0 0]\n",
            "  [1 1 1 1]]\n",
            "\n",
            " [[2 2 2 2]\n",
            "  [3 3 3 3]]\n",
            "\n",
            " [[4 4 4 4]\n",
            "  [5 5 5 5]]]\n"
          ]
        }
      ]
    },
    {
      "cell_type": "code",
      "source": [
        "a.ndim"
      ],
      "metadata": {
        "colab": {
          "base_uri": "https://localhost:8080/"
        },
        "id": "MFY-jC8UWnXx",
        "outputId": "da6348bc-bbfd-43f6-caf0-78af90f9037d"
      },
      "execution_count": 11,
      "outputs": [
        {
          "output_type": "execute_result",
          "data": {
            "text/plain": [
              "1"
            ]
          },
          "metadata": {},
          "execution_count": 11
        }
      ]
    },
    {
      "cell_type": "code",
      "source": [
        "b.ndim"
      ],
      "metadata": {
        "colab": {
          "base_uri": "https://localhost:8080/"
        },
        "id": "BO-iuyF4Xi4r",
        "outputId": "b31e40a8-c55c-4637-be2e-7fedc345ca69"
      },
      "execution_count": 12,
      "outputs": [
        {
          "output_type": "execute_result",
          "data": {
            "text/plain": [
              "1"
            ]
          },
          "metadata": {},
          "execution_count": 12
        }
      ]
    },
    {
      "cell_type": "code",
      "source": [
        "c.ndim"
      ],
      "metadata": {
        "colab": {
          "base_uri": "https://localhost:8080/"
        },
        "id": "IHvEaaAVXjQ1",
        "outputId": "60b0cf8d-d71d-4801-c487-f8fba5ba2d6c"
      },
      "execution_count": 13,
      "outputs": [
        {
          "output_type": "execute_result",
          "data": {
            "text/plain": [
              "3"
            ]
          },
          "metadata": {},
          "execution_count": 13
        }
      ]
    },
    {
      "cell_type": "code",
      "source": [
        "a.shape"
      ],
      "metadata": {
        "colab": {
          "base_uri": "https://localhost:8080/"
        },
        "id": "5ayCaEdtXjip",
        "outputId": "8399384b-397a-44dd-c09e-a222d7255f87"
      },
      "execution_count": 14,
      "outputs": [
        {
          "output_type": "execute_result",
          "data": {
            "text/plain": [
              "(4,)"
            ]
          },
          "metadata": {},
          "execution_count": 14
        }
      ]
    },
    {
      "cell_type": "code",
      "source": [
        "b.shape"
      ],
      "metadata": {
        "colab": {
          "base_uri": "https://localhost:8080/"
        },
        "id": "K0k-LmryXj8X",
        "outputId": "4087f7ff-a9c1-4552-85c9-4b69fad010dd"
      },
      "execution_count": 15,
      "outputs": [
        {
          "output_type": "execute_result",
          "data": {
            "text/plain": [
              "(4,)"
            ]
          },
          "metadata": {},
          "execution_count": 15
        }
      ]
    },
    {
      "cell_type": "code",
      "source": [
        "c.shape"
      ],
      "metadata": {
        "colab": {
          "base_uri": "https://localhost:8080/"
        },
        "id": "9eh4MfzUXkK9",
        "outputId": "2eea3cc8-04bf-4990-de58-3da414402f82"
      },
      "execution_count": 16,
      "outputs": [
        {
          "output_type": "execute_result",
          "data": {
            "text/plain": [
              "(3, 2, 4)"
            ]
          },
          "metadata": {},
          "execution_count": 16
        }
      ]
    },
    {
      "cell_type": "code",
      "source": [
        "#Latihan Perintah Dasar pada Numpy 2\n",
        "\n",
        "#kita akan membuat bilangan A\n",
        "Bil_A = np.array([1,2,3,4,5])\n",
        "#lalu kita print yang ingin kita print\n",
        "print(Bil_A[0])\n",
        "print(Bil_A[2])\n",
        "print(Bil_A[4])\n",
        "print(Bil_A[0:4])\n",
        "print(Bil_A[1:1])\n",
        "print(Bil_A)"
      ],
      "metadata": {
        "colab": {
          "base_uri": "https://localhost:8080/"
        },
        "id": "YP9R-inkX1y_",
        "outputId": "f06f4db7-c3a0-4cc0-f702-a2e69187e660"
      },
      "execution_count": 20,
      "outputs": [
        {
          "output_type": "stream",
          "name": "stdout",
          "text": [
            "1\n",
            "3\n",
            "5\n",
            "[1 2 3 4]\n",
            "[]\n",
            "[1 2 3 4 5]\n"
          ]
        }
      ]
    },
    {
      "cell_type": "markdown",
      "source": [
        "# 5.20.2 Memanggil Anggota, Kolom dan Baris dengan Numpy\n",
        "Program memanggil anggota, kolom dan baris dalam list menggunakan Numpy"
      ],
      "metadata": {
        "id": "jzpSB-FLZecR"
      }
    },
    {
      "cell_type": "code",
      "source": [
        "#Latihan Memanggil Anggota, Kolom dan Baris dengan Numpy 1\n",
        "\n",
        "# membuat array\n",
        "d = np.array([[0,0,0,0],[1,1,1,1],[2,2,2,2],[3,3,3,3]])\n",
        "# mengakses data pada array\n",
        "print(d)"
      ],
      "metadata": {
        "colab": {
          "base_uri": "https://localhost:8080/"
        },
        "id": "oM4IPFFTZwbC",
        "outputId": "8c6bec86-1906-4803-b738-b59320579b7a"
      },
      "execution_count": 6,
      "outputs": [
        {
          "output_type": "stream",
          "name": "stdout",
          "text": [
            "[[0 0 0 0]\n",
            " [1 1 1 1]\n",
            " [2 2 2 2]\n",
            " [3 3 3 3]]\n"
          ]
        }
      ]
    },
    {
      "cell_type": "code",
      "source": [
        "d[3,3]"
      ],
      "metadata": {
        "colab": {
          "base_uri": "https://localhost:8080/"
        },
        "id": "q9W23Uqaah7P",
        "outputId": "d72f179c-7958-4f43-c462-e9ad5d3996bc"
      },
      "execution_count": 26,
      "outputs": [
        {
          "output_type": "execute_result",
          "data": {
            "text/plain": [
              "3"
            ]
          },
          "metadata": {},
          "execution_count": 26
        }
      ]
    },
    {
      "cell_type": "code",
      "source": [
        "d[2,:]"
      ],
      "metadata": {
        "colab": {
          "base_uri": "https://localhost:8080/"
        },
        "id": "Ps3nCeNka0XO",
        "outputId": "6cd250f6-c8f9-4f48-b02c-4b2cca82ba59"
      },
      "execution_count": 28,
      "outputs": [
        {
          "output_type": "execute_result",
          "data": {
            "text/plain": [
              "array([2, 2, 2, 2])"
            ]
          },
          "metadata": {},
          "execution_count": 28
        }
      ]
    },
    {
      "cell_type": "code",
      "source": [
        "d[:,1]"
      ],
      "metadata": {
        "colab": {
          "base_uri": "https://localhost:8080/"
        },
        "id": "bSofxVZma9Xr",
        "outputId": "3e12903b-0b30-41cb-a51c-443a9879a8c9"
      },
      "execution_count": 29,
      "outputs": [
        {
          "output_type": "execute_result",
          "data": {
            "text/plain": [
              "array([0, 1, 2, 3])"
            ]
          },
          "metadata": {},
          "execution_count": 29
        }
      ]
    },
    {
      "cell_type": "code",
      "source": [
        "d[0,1:2]"
      ],
      "metadata": {
        "colab": {
          "base_uri": "https://localhost:8080/"
        },
        "id": "W4kCFYORbBqJ",
        "outputId": "e668f2f3-095a-434a-ae9e-45f5c6c88893"
      },
      "execution_count": 30,
      "outputs": [
        {
          "output_type": "execute_result",
          "data": {
            "text/plain": [
              "array([0])"
            ]
          },
          "metadata": {},
          "execution_count": 30
        }
      ]
    },
    {
      "cell_type": "code",
      "source": [
        "d[0,0:2:1]"
      ],
      "metadata": {
        "colab": {
          "base_uri": "https://localhost:8080/"
        },
        "id": "oZHnzvJTbL00",
        "outputId": "bbc21f8a-76fe-47d8-aa11-06e9c5a22341"
      },
      "execution_count": 31,
      "outputs": [
        {
          "output_type": "execute_result",
          "data": {
            "text/plain": [
              "array([0, 0])"
            ]
          },
          "metadata": {},
          "execution_count": 31
        }
      ]
    },
    {
      "cell_type": "code",
      "source": [
        "d[1,1] = 33\n",
        "print(d)"
      ],
      "metadata": {
        "colab": {
          "base_uri": "https://localhost:8080/"
        },
        "id": "61R4zF3mbONM",
        "outputId": "9843acfd-b243-4e5b-ada4-4ccf2f1528e5"
      },
      "execution_count": 33,
      "outputs": [
        {
          "output_type": "stream",
          "name": "stdout",
          "text": [
            "[[ 0  0  0  0]\n",
            " [ 1 33  1  1]\n",
            " [ 2  2  2  2]\n",
            " [ 3  3  3  3]]\n"
          ]
        }
      ]
    },
    {
      "cell_type": "code",
      "source": [
        "#Latihan Memanggil Anggota, Kolom dan Baris dengan Numpy 2\n",
        "\n",
        "#berikut cara melakukan slicing pada Array 2 dimensi\n",
        "x = np.arange(10)\n",
        "#lalu kita print\n",
        "print(x)\n",
        "print(x[2:8])\n",
        "print(x[:5])\n",
        "print(x[5:])\n",
        "print(x[::2])\n",
        "print(x[1::2])\n",
        "print(x[1:7:2])\n",
        "print(x[::-1])"
      ],
      "metadata": {
        "colab": {
          "base_uri": "https://localhost:8080/"
        },
        "id": "lTg748aDbpEQ",
        "outputId": "c070f090-558c-4803-cb0e-adb504384704"
      },
      "execution_count": 14,
      "outputs": [
        {
          "output_type": "stream",
          "name": "stdout",
          "text": [
            "[0 1 2 3 4 5 6 7 8 9]\n",
            "[2 3 4 5 6 7]\n",
            "[0 1 2 3 4]\n",
            "[5 6 7 8 9]\n",
            "[0 2 4 6 8]\n",
            "[1 3 5 7 9]\n",
            "[1 3 5]\n",
            "[9 8 7 6 5 4 3 2 1 0]\n"
          ]
        }
      ]
    },
    {
      "cell_type": "markdown",
      "source": [
        "# 5.20.3 Matrix pada Numpy\n",
        "Numpy dapat digunakan untuk membuat berbagai jenis matrix"
      ],
      "metadata": {
        "id": "i1jjtyH_w5aJ"
      }
    },
    {
      "cell_type": "code",
      "source": [
        "#Latihan Matrix pada Numpy 1\n",
        "\n",
        "#ones yang berfungsi untuk membuat array dengan semua elemen bernilai 1\n",
        "np.ones((1,3))"
      ],
      "metadata": {
        "colab": {
          "base_uri": "https://localhost:8080/"
        },
        "id": "Eqww33ioxuj5",
        "outputId": "0fdd9b9b-b2b3-4e18-ae4c-61c98f3f97a9"
      },
      "execution_count": 16,
      "outputs": [
        {
          "output_type": "execute_result",
          "data": {
            "text/plain": [
              "array([[1., 1., 1.]])"
            ]
          },
          "metadata": {},
          "execution_count": 16
        }
      ]
    },
    {
      "cell_type": "code",
      "source": [
        "#zeros yang berfungsi untuk mengubah semua elemen array menjadi 0 semua tanpa terkecuali\n",
        "np.zeros((3,1))"
      ],
      "metadata": {
        "colab": {
          "base_uri": "https://localhost:8080/"
        },
        "id": "4yEWccqZyA-R",
        "outputId": "79b25c6a-6333-412a-ebb8-7405aebc7ae2"
      },
      "execution_count": 17,
      "outputs": [
        {
          "output_type": "execute_result",
          "data": {
            "text/plain": [
              "array([[0.],\n",
              "       [0.],\n",
              "       [0.]])"
            ]
          },
          "metadata": {},
          "execution_count": 17
        }
      ]
    },
    {
      "cell_type": "code",
      "source": [
        "#identity adalah jenis matrik yang semua elemen pada diagonal utamanya adalah satu (1) dan semua elemen lainnya adalah nol (0)\n",
        "np.identity(3)"
      ],
      "metadata": {
        "colab": {
          "base_uri": "https://localhost:8080/"
        },
        "id": "Ip21AHQTyBcc",
        "outputId": "df101c74-6646-4bb4-dc27-1c751b33bf70"
      },
      "execution_count": 18,
      "outputs": [
        {
          "output_type": "execute_result",
          "data": {
            "text/plain": [
              "array([[1., 0., 0.],\n",
              "       [0., 1., 0.],\n",
              "       [0., 0., 1.]])"
            ]
          },
          "metadata": {},
          "execution_count": 18
        }
      ]
    },
    {
      "cell_type": "code",
      "source": [
        "#ones berfungsi untuk membuat array dengan semua elemen bernilai 1 \n",
        "np.ones((2,4,6))"
      ],
      "metadata": {
        "colab": {
          "base_uri": "https://localhost:8080/"
        },
        "id": "jxNtmmtWyBu8",
        "outputId": "551980b5-2cd2-4083-daef-06a4580916c0"
      },
      "execution_count": 19,
      "outputs": [
        {
          "output_type": "execute_result",
          "data": {
            "text/plain": [
              "array([[[1., 1., 1., 1., 1., 1.],\n",
              "        [1., 1., 1., 1., 1., 1.],\n",
              "        [1., 1., 1., 1., 1., 1.],\n",
              "        [1., 1., 1., 1., 1., 1.]],\n",
              "\n",
              "       [[1., 1., 1., 1., 1., 1.],\n",
              "        [1., 1., 1., 1., 1., 1.],\n",
              "        [1., 1., 1., 1., 1., 1.],\n",
              "        [1., 1., 1., 1., 1., 1.]]])"
            ]
          },
          "metadata": {},
          "execution_count": 19
        }
      ]
    },
    {
      "cell_type": "code",
      "source": [
        "#Fungsi full digunakan untuk mengisi array yang sudah ada dengan nilai yang sama\n",
        "np.full((3,1),6)"
      ],
      "metadata": {
        "colab": {
          "base_uri": "https://localhost:8080/"
        },
        "id": "WNe3zEwXyB87",
        "outputId": "80faeaa9-a36a-4022-cdd5-8a609cee69eb"
      },
      "execution_count": 20,
      "outputs": [
        {
          "output_type": "execute_result",
          "data": {
            "text/plain": [
              "array([[6],\n",
              "       [6],\n",
              "       [6]])"
            ]
          },
          "metadata": {},
          "execution_count": 20
        }
      ]
    },
    {
      "cell_type": "code",
      "source": [
        "#fungsi random digunakan untuk menghasilkan angka acak di Python. Tidak benar-benar acak, melainkan ini digunakan untuk menghasilkan angka pseudo-acak\n",
        "np.random.rand(5,2)"
      ],
      "metadata": {
        "colab": {
          "base_uri": "https://localhost:8080/"
        },
        "id": "61KhXCjmyCKe",
        "outputId": "b57cbe79-7b03-45e5-b729-f17741ddb068"
      },
      "execution_count": 21,
      "outputs": [
        {
          "output_type": "execute_result",
          "data": {
            "text/plain": [
              "array([[0.65041541, 0.80331668],\n",
              "       [0.44477933, 0.56904557],\n",
              "       [0.0448696 , 0.36897483],\n",
              "       [0.18612192, 0.58146605],\n",
              "       [0.22229011, 0.84878211]])"
            ]
          },
          "metadata": {},
          "execution_count": 21
        }
      ]
    },
    {
      "cell_type": "code",
      "source": [
        "#random.randint akan menghasilkan sebuah angka dengan tipe data integer acak dari parameter yang diberikan\n",
        "#Fungsi ini membutuhkan 2 parameter yaitu angka minimum dan angka maksimum, dan python akan memberikan sebuah angka diantara 2 angka tersebut\n",
        "np.random.randint(0,8,size=(4,4))"
      ],
      "metadata": {
        "colab": {
          "base_uri": "https://localhost:8080/"
        },
        "id": "OffdQI4kyCYn",
        "outputId": "6374c50e-61f3-4b1d-d551-1555e92abe9e"
      },
      "execution_count": 22,
      "outputs": [
        {
          "output_type": "execute_result",
          "data": {
            "text/plain": [
              "array([[4, 5, 4, 5],\n",
              "       [6, 0, 1, 7],\n",
              "       [5, 1, 0, 7],\n",
              "       [1, 3, 3, 3]])"
            ]
          },
          "metadata": {},
          "execution_count": 22
        }
      ]
    },
    {
      "cell_type": "markdown",
      "source": [
        "# 5.20.4 Copy pada Numpy\n",
        "Copy memiliki data dan perubahan, apapun yang dilakukan pada copy tidak akan memengaruhi array asli, dan perubahan apa pun yang dibuat pada array asli tidak akan memengaruhi copy\n"
      ],
      "metadata": {
        "id": "-2LDbM3LDUPq"
      }
    },
    {
      "cell_type": "code",
      "source": [
        "#Latihan Copy pada Numpy 1\n",
        "\n",
        "# membuat array\n",
        "a = np.array([0,1,2,3,4])\n",
        "# mengakses data pada array\n",
        "print(a)\n"
      ],
      "metadata": {
        "colab": {
          "base_uri": "https://localhost:8080/"
        },
        "id": "osyOuyGLEpmd",
        "outputId": "f8bfce35-1945-4b97-80d2-011453f2b452"
      },
      "execution_count": 4,
      "outputs": [
        {
          "output_type": "stream",
          "name": "stdout",
          "text": [
            "[0 1 2 3 4]\n"
          ]
        }
      ]
    },
    {
      "cell_type": "code",
      "source": [
        "#kita akan membuat nilai a = nilai b\n",
        "b = a\n",
        "print(b)\n"
      ],
      "metadata": {
        "colab": {
          "base_uri": "https://localhost:8080/"
        },
        "id": "NdGeQTLNGDLb",
        "outputId": "512b2a22-8aec-4e9c-bb43-f1f5680756ff"
      },
      "execution_count": 6,
      "outputs": [
        {
          "output_type": "stream",
          "name": "stdout",
          "text": [
            "[0 1 2 3 4]\n"
          ]
        }
      ]
    },
    {
      "cell_type": "code",
      "source": [
        "#kita akan mengubah data 0 menjadi 5\n",
        "b[0] = 5\n",
        "print(b)"
      ],
      "metadata": {
        "colab": {
          "base_uri": "https://localhost:8080/"
        },
        "id": "BZ-hbvEyrz_t",
        "outputId": "5b303507-4f98-4e91-a92b-a4e3b6df57ec"
      },
      "execution_count": 14,
      "outputs": [
        {
          "output_type": "stream",
          "name": "stdout",
          "text": [
            "[5 1 2 3 4]\n"
          ]
        }
      ]
    },
    {
      "cell_type": "code",
      "source": [
        "#lalu kita print nilai a dari data yang sudah kita ganti\n",
        "print(a)"
      ],
      "metadata": {
        "colab": {
          "base_uri": "https://localhost:8080/"
        },
        "id": "zJWdbvDDr_zv",
        "outputId": "0575f53e-f500-4a87-d188-2f6fdd3e0eae"
      },
      "execution_count": 8,
      "outputs": [
        {
          "output_type": "stream",
          "name": "stdout",
          "text": [
            "[5 1 2 3 4]\n"
          ]
        }
      ]
    },
    {
      "cell_type": "code",
      "source": [
        "# membuat array\n",
        "c = np.array([0,1,2,3,4])\n",
        "# mengakses data pada array\n",
        "print(c)"
      ],
      "metadata": {
        "colab": {
          "base_uri": "https://localhost:8080/"
        },
        "id": "82AK5_iys3eW",
        "outputId": "6a9f68c2-4e26-4c6a-a865-eb8996efe6dd"
      },
      "execution_count": 15,
      "outputs": [
        {
          "output_type": "stream",
          "name": "stdout",
          "text": [
            "[0 1 2 3 4]\n"
          ]
        }
      ]
    },
    {
      "cell_type": "code",
      "source": [
        "#lalu kita print d menggunakan copy\n",
        "d = c.copy()\n",
        "print(d)"
      ],
      "metadata": {
        "colab": {
          "base_uri": "https://localhost:8080/"
        },
        "id": "QwnaRqPvtNjn",
        "outputId": "eebda7f8-d76b-4bff-e86c-0cb5b6f86042"
      },
      "execution_count": 16,
      "outputs": [
        {
          "output_type": "stream",
          "name": "stdout",
          "text": [
            "[0 1 2 3 4]\n"
          ]
        }
      ]
    },
    {
      "cell_type": "code",
      "source": [
        "#lalu kita ganti nilai 0 menjadi 5\n",
        "d[0] = 5\n",
        "print(d)"
      ],
      "metadata": {
        "colab": {
          "base_uri": "https://localhost:8080/"
        },
        "id": "OU83HzVOtUo4",
        "outputId": "02079e1d-a891-43b1-b527-7212b531d655"
      },
      "execution_count": 12,
      "outputs": [
        {
          "output_type": "stream",
          "name": "stdout",
          "text": [
            "[5 1 2 3 4]\n"
          ]
        }
      ]
    },
    {
      "cell_type": "code",
      "source": [
        "#lalu kita print c\n",
        "print(c)"
      ],
      "metadata": {
        "colab": {
          "base_uri": "https://localhost:8080/"
        },
        "id": "2SdGf_Svtcjw",
        "outputId": "147c94bf-6842-4912-b3a5-a294d2bfc7e1"
      },
      "execution_count": 17,
      "outputs": [
        {
          "output_type": "stream",
          "name": "stdout",
          "text": [
            "[0 1 2 3 4]\n"
          ]
        }
      ]
    },
    {
      "cell_type": "code",
      "source": [
        "#Latihan Copy pada Numpy 2\n",
        "#kita akan print menggunakan copy\n",
        "arr = np.array([1, 2, 3, 4, 5])\n",
        "x = arr.copy()\n",
        "arr[0] = 10\n",
        "\n",
        "print(arr)\n",
        "print(x)"
      ],
      "metadata": {
        "colab": {
          "base_uri": "https://localhost:8080/"
        },
        "id": "GTm8SCGhzmI_",
        "outputId": "326cee7b-1c6a-4a78-8b6c-a3a5cda6a972"
      },
      "execution_count": 21,
      "outputs": [
        {
          "output_type": "stream",
          "name": "stdout",
          "text": [
            "[10  2  3  4  5]\n",
            "[1 2 3 4 5]\n"
          ]
        }
      ]
    },
    {
      "cell_type": "markdown",
      "source": [
        "# 5.20.5 Operasi Matematika pada Numpy\n",
        "Ada beberapa operasi dalam matematika"
      ],
      "metadata": {
        "id": "Uv_qwnPb0kLJ"
      }
    },
    {
      "cell_type": "code",
      "source": [
        "#Latihan Operasi Matematika pada Numpy 1\n",
        "\n",
        "#operasi aritmatika\n",
        "Bilangan_1 = np.array([1,2,3,4,5])\n",
        "Bilangan_2 = np.array([1,1,1,1,1])\n",
        "\n",
        "print(\"penjumlahan = \", Bilangan_1 + Bilangan_2)\n",
        "print(\"pengurangan = \", Bilangan_1 - Bilangan_2)\n",
        "print(\"perkalian = \", Bilangan_1 * Bilangan_2)\n",
        "print(\"pembagian = \", Bilangan_1 / Bilangan_2)\n",
        "print(\"perpangkatan = \", Bilangan_1 ** Bilangan_2)"
      ],
      "metadata": {
        "colab": {
          "base_uri": "https://localhost:8080/"
        },
        "id": "RV1Z07wn00R_",
        "outputId": "9f78dde3-3587-4c47-90cd-c8aced7f0dac"
      },
      "execution_count": 9,
      "outputs": [
        {
          "output_type": "stream",
          "name": "stdout",
          "text": [
            "penjumlahan =  [2 3 4 5 6]\n",
            "pengurangan =  [0 1 2 3 4]\n",
            "perkalian =  [1 2 3 4 5]\n",
            "pembagian =  [1. 2. 3. 4. 5.]\n",
            "perpangkatan =  [1 2 3 4 5]\n"
          ]
        }
      ]
    },
    {
      "cell_type": "markdown",
      "source": [
        "# 5.20.6 Perkalian Matrik pada Numpy\n",
        " Konsep Perkalian Matriks adalah mengalikan elemen – elemen baris pada matriks pertama dengan elemen – elemen kolom pada matriks ke dua"
      ],
      "metadata": {
        "id": "PTnJ8zsN3cOb"
      }
    },
    {
      "cell_type": "code",
      "source": [
        "#Latihan Perkalian Matrik pada Numpy 1\n",
        "\n",
        "#perkalian matrik\n",
        "matrik_A = np.array([[1,2],\n",
        "                     [2,1]])\n",
        "matrik_B = np.array([[2,2],\n",
        "                     [1,1]])   \n",
        "#kita kalikan matrik_A dengan matrik_B\n",
        "perkalian_biasa = matrik_A*matrik_B\n",
        "perkalian_matrik_1 = np.dot(matrik_A,matrik_B)\n",
        "perkalian_matrik_2 = matrik_A.dot(matrik_B)\n",
        "\n",
        "print(\"Matrik A :\")\n",
        "print(matrik_A)\n",
        "\n",
        "print(\"Matrik B :\")\n",
        "print(matrik_B)\n",
        "\n",
        "print(\"Perkalian Biasa Matrik : \")\n",
        "print(perkalian_biasa)\n",
        "\n",
        "print(\"Perkalian Matrik Cara 1 : \")\n",
        "print(perkalian_matrik_1)\n",
        "\n",
        "print(\"Perkalian Matrik Cara 2 : \")\n",
        "print(perkalian_matrik_2)\n"
      ],
      "metadata": {
        "colab": {
          "base_uri": "https://localhost:8080/"
        },
        "id": "ujQTs_-Q33Zj",
        "outputId": "6eb47f74-ac4d-4b4e-9891-e421cf11fb71"
      },
      "execution_count": 5,
      "outputs": [
        {
          "output_type": "stream",
          "name": "stdout",
          "text": [
            "Matrik A :\n",
            "[[1 2]\n",
            " [2 1]]\n",
            "Matrik B :\n",
            "[[2 2]\n",
            " [1 1]]\n",
            "Perkalian Biasa Matrik : \n",
            "[[2 4]\n",
            " [2 1]]\n",
            "Perkalian Matrik Cara 1 : \n",
            "[[4 4]\n",
            " [5 5]]\n",
            "Perkalian Matrik Cara 2 : \n",
            "[[4 4]\n",
            " [5 5]]\n"
          ]
        }
      ]
    },
    {
      "cell_type": "markdown",
      "source": [
        "# 5.20.7 min, max dan sum pada Numpy\n",
        "minimum, maksimum, dan penjumlahan"
      ],
      "metadata": {
        "id": "r8LVJ2Xd3s7_"
      }
    },
    {
      "cell_type": "code",
      "source": [
        "#Latihan min, max dan sum pada Numpy 1\n",
        "\n",
        "#nilai minimum,maksimum, dan penjumlahan\n",
        "matrik = np.array([1,2,3,4,5])\n",
        "print(\"Nilai minimum = \", matrik.min())\n",
        "print(\"Nilai maksimum = \", matrik.max())\n",
        "print(\"Nilai penjumlahan = \", matrik.sum())"
      ],
      "metadata": {
        "colab": {
          "base_uri": "https://localhost:8080/"
        },
        "id": "75oo3SQZ35n4",
        "outputId": "8017d027-6e63-42b3-a75f-70a10a607175"
      },
      "execution_count": 16,
      "outputs": [
        {
          "output_type": "stream",
          "name": "stdout",
          "text": [
            "Nilai minimum =  1\n",
            "Nilai maksimum =  5\n",
            "Nilai penjumlahan =  15\n"
          ]
        }
      ]
    },
    {
      "cell_type": "code",
      "source": [
        "#Latihan min, max dan sum pada Numpy 2\n",
        "a = [3, 20, 100, -35, 50]\n",
        "\n",
        "#nilai minimum,maksimum, dan penjumlahan\n",
        "print(a)\n",
        "print(\"Nilai maksimum:\", max(a))\n",
        "print(\"Nilai minimum:\", min(a))\n",
        "print(\"Nilai penjumlahan:\", sum(a))"
      ],
      "metadata": {
        "colab": {
          "base_uri": "https://localhost:8080/"
        },
        "id": "vTVA8e-vHGTG",
        "outputId": "f1662b81-76c0-4da3-dd1e-19b6e20cc093"
      },
      "execution_count": 15,
      "outputs": [
        {
          "output_type": "stream",
          "name": "stdout",
          "text": [
            "[3, 20, 100, -35, 50]\n",
            "Nilai maksimum: 100\n",
            "Nilai minimum: -35\n",
            "Nilai penjumlahan: 138\n"
          ]
        }
      ]
    }
  ]
}