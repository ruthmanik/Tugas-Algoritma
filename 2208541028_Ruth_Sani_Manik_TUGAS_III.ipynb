{
  "cells": [
    {
      "cell_type": "markdown",
      "metadata": {
        "id": "view-in-github",
        "colab_type": "text"
      },
      "source": [
        "<a href=\"https://colab.research.google.com/github/ruthmanik/Tugas-Algoritma/blob/main/2208541028_Ruth_Sani_Manik_TUGAS_III.ipynb\" target=\"_parent\"><img src=\"https://colab.research.google.com/assets/colab-badge.svg\" alt=\"Open In Colab\"/></a>"
      ]
    },
    {
      "cell_type": "markdown",
      "id": "c421fe8b",
      "metadata": {
        "id": "c421fe8b"
      },
      "source": [
        "# 5.5 Strings Index"
      ]
    },
    {
      "cell_type": "code",
      "execution_count": 2,
      "id": "5295ffb3",
      "metadata": {
        "id": "5295ffb3"
      },
      "outputs": [],
      "source": [
        "#Tugas pertemuan Senin, 20 Maret 2023\n",
        "\n",
        "#string index: penomoran dari data tipe string. Dimana urutan data dimulai dari 0 dan sampai data string terakhir. Lebih mudahnya urutan data terakhir adalah index-1\n",
        "pesan = \"ini adalah hari libur\"\n"
      ]
    },
    {
      "cell_type": "code",
      "execution_count": 3,
      "id": "5cabc52f",
      "metadata": {
        "colab": {
          "base_uri": "https://localhost:8080/"
        },
        "id": "5cabc52f",
        "outputId": "c5a9c48f-cf31-475a-ccba-78a8639aee15"
      },
      "outputs": [
        {
          "output_type": "stream",
          "name": "stdout",
          "text": [
            "ini adalah hari \n"
          ]
        }
      ],
      "source": [
        "print(pesan[0:16])"
      ]
    },
    {
      "cell_type": "code",
      "source": [
        "pesan[0:10]"
      ],
      "metadata": {
        "colab": {
          "base_uri": "https://localhost:8080/",
          "height": 35
        },
        "id": "vzorInGlzJNi",
        "outputId": "d078fa44-6cf5-46ac-d3b4-88aea147f619"
      },
      "id": "vzorInGlzJNi",
      "execution_count": 5,
      "outputs": [
        {
          "output_type": "execute_result",
          "data": {
            "text/plain": [
              "'ini adalah'"
            ],
            "application/vnd.google.colaboratory.intrinsic+json": {
              "type": "string"
            }
          },
          "metadata": {},
          "execution_count": 5
        }
      ]
    },
    {
      "cell_type": "code",
      "source": [
        "type(pesan)"
      ],
      "metadata": {
        "colab": {
          "base_uri": "https://localhost:8080/"
        },
        "id": "zL1Euluj0Rse",
        "outputId": "680cd8f6-a38b-4546-8ed7-c074e4099cbc"
      },
      "id": "zL1Euluj0Rse",
      "execution_count": 6,
      "outputs": [
        {
          "output_type": "execute_result",
          "data": {
            "text/plain": [
              "str"
            ]
          },
          "metadata": {},
          "execution_count": 6
        }
      ]
    },
    {
      "cell_type": "code",
      "source": [
        "nama = \"r u t h\"\n"
      ],
      "metadata": {
        "id": "yd8hgIn61LWh"
      },
      "id": "yd8hgIn61LWh",
      "execution_count": 7,
      "outputs": []
    },
    {
      "cell_type": "code",
      "source": [
        "print(nama[0])"
      ],
      "metadata": {
        "colab": {
          "base_uri": "https://localhost:8080/"
        },
        "id": "DR0TlU5g1iNo",
        "outputId": "bd80d981-6886-47bc-ab89-ecad72ecb899"
      },
      "id": "DR0TlU5g1iNo",
      "execution_count": 9,
      "outputs": [
        {
          "output_type": "stream",
          "name": "stdout",
          "text": [
            "r\n"
          ]
        }
      ]
    },
    {
      "cell_type": "code",
      "source": [
        "print(nama[:])"
      ],
      "metadata": {
        "colab": {
          "base_uri": "https://localhost:8080/"
        },
        "id": "vnR5M4jm2AFx",
        "outputId": "0eb93dd8-8d28-41cd-f354-edd84909ddf6"
      },
      "id": "vnR5M4jm2AFx",
      "execution_count": 11,
      "outputs": [
        {
          "output_type": "stream",
          "name": "stdout",
          "text": [
            "r u t h\n"
          ]
        }
      ]
    },
    {
      "cell_type": "code",
      "source": [
        "print(nama[1:3:4])"
      ],
      "metadata": {
        "colab": {
          "base_uri": "https://localhost:8080/"
        },
        "id": "V_3m--zr2Qnc",
        "outputId": "61319131-f9b8-4ad3-cc37-057c532fd339"
      },
      "id": "V_3m--zr2Qnc",
      "execution_count": 21,
      "outputs": [
        {
          "output_type": "stream",
          "name": "stdout",
          "text": [
            " \n"
          ]
        }
      ]
    },
    {
      "cell_type": "code",
      "source": [
        "print(nama[1:-1])"
      ],
      "metadata": {
        "colab": {
          "base_uri": "https://localhost:8080/"
        },
        "id": "TaziZvRb2hW7",
        "outputId": "7133fad8-cfbd-4ae7-e948-d74fd2fd22cf"
      },
      "id": "TaziZvRb2hW7",
      "execution_count": 15,
      "outputs": [
        {
          "output_type": "stream",
          "name": "stdout",
          "text": [
            " u t \n"
          ]
        }
      ]
    },
    {
      "cell_type": "code",
      "source": [
        "print(nama[1:-2:3])"
      ],
      "metadata": {
        "colab": {
          "base_uri": "https://localhost:8080/"
        },
        "id": "xSeIJH2F3Ye4",
        "outputId": "19892dd9-d1ad-4dea-eeb1-ad061028fb3a"
      },
      "id": "xSeIJH2F3Ye4",
      "execution_count": 20,
      "outputs": [
        {
          "output_type": "stream",
          "name": "stdout",
          "text": [
            " t\n"
          ]
        }
      ]
    },
    {
      "cell_type": "code",
      "source": [
        "print(nama[-1:])"
      ],
      "metadata": {
        "colab": {
          "base_uri": "https://localhost:8080/"
        },
        "id": "-Ik_SmSG4DAS",
        "outputId": "7a8d59af-599f-4b81-d86d-dfa082e939d3"
      },
      "id": "-Ik_SmSG4DAS",
      "execution_count": 22,
      "outputs": [
        {
          "output_type": "stream",
          "name": "stdout",
          "text": [
            "h\n"
          ]
        }
      ]
    },
    {
      "cell_type": "code",
      "source": [
        "print(nama[:-1])"
      ],
      "metadata": {
        "colab": {
          "base_uri": "https://localhost:8080/"
        },
        "id": "vAwMwScu4VP6",
        "outputId": "da3a5afc-5449-4201-c4d2-0420bb246fcf"
      },
      "id": "vAwMwScu4VP6",
      "execution_count": 23,
      "outputs": [
        {
          "output_type": "stream",
          "name": "stdout",
          "text": [
            "r u t \n"
          ]
        }
      ]
    },
    {
      "cell_type": "markdown",
      "id": "e88dc8e5",
      "metadata": {
        "id": "e88dc8e5"
      },
      "source": [
        "# 5.6 Strings Methods"
      ]
    },
    {
      "cell_type": "code",
      "execution_count": 3,
      "id": "a19d9592",
      "metadata": {
        "id": "a19d9592"
      },
      "outputs": [],
      "source": [
        "#kali ini kita akan mencoba beberapa methoda yang digunakan pada variabel berjenis string\n",
        "judul = (\"rumah adalah istanaku\" )"
      ]
    },
    {
      "cell_type": "code",
      "execution_count": 3,
      "id": "2a386a2e",
      "metadata": {
        "colab": {
          "base_uri": "https://localhost:8080/"
        },
        "id": "2a386a2e",
        "outputId": "2e79d664-c3c7-40b6-eafb-42791b0ac617"
      },
      "outputs": [
        {
          "output_type": "stream",
          "name": "stdout",
          "text": [
            "21\n"
          ]
        }
      ],
      "source": [
        "#yang pertama ada len. Dimana len berfungsi untuk mengidentifikasi dan mengetahui jumlah item pada suatu objek\n",
        "print(len(judul))"
      ]
    },
    {
      "cell_type": "code",
      "source": [
        "#yang kedua ada upper. Dimana upper berfungsi untuk mengubah alfabet pada sebuah kata atau kalimat menjadi huruf besar\n",
        "judul.upper()"
      ],
      "metadata": {
        "colab": {
          "base_uri": "https://localhost:8080/",
          "height": 35
        },
        "id": "_alWeyDfJuYO",
        "outputId": "bcd86c22-2cb0-4b69-e6f9-e319da5d34e3"
      },
      "id": "_alWeyDfJuYO",
      "execution_count": 5,
      "outputs": [
        {
          "output_type": "execute_result",
          "data": {
            "text/plain": [
              "'RUMAH ADALAH ISTANAKU'"
            ],
            "application/vnd.google.colaboratory.intrinsic+json": {
              "type": "string"
            }
          },
          "metadata": {},
          "execution_count": 5
        }
      ]
    },
    {
      "cell_type": "code",
      "source": [
        "#yang ketiga ada lower. Dimana lower berfungsi untuk mengubah alfabet pada sebuah kata atau kalimat menjadi huruf kecil\n",
        "judul.lower()"
      ],
      "metadata": {
        "colab": {
          "base_uri": "https://localhost:8080/",
          "height": 35
        },
        "id": "7VOLsrKQK_a7",
        "outputId": "c03b529c-2f7f-4443-ea41-808587bd31b4"
      },
      "id": "7VOLsrKQK_a7",
      "execution_count": 6,
      "outputs": [
        {
          "output_type": "execute_result",
          "data": {
            "text/plain": [
              "'rumah adalah istanaku'"
            ],
            "application/vnd.google.colaboratory.intrinsic+json": {
              "type": "string"
            }
          },
          "metadata": {},
          "execution_count": 6
        }
      ]
    },
    {
      "cell_type": "code",
      "source": [
        "#yang keempat ada find. Dimana fungsi yang pertama untuk mengembalikan indeks dari hasil pertama pencarian\n",
        "judul.find(\"adalah\")"
      ],
      "metadata": {
        "colab": {
          "base_uri": "https://localhost:8080/"
        },
        "id": "3ityICz1LbnT",
        "outputId": "18b32ab1-86a6-4579-ede8-aa910211f176"
      },
      "id": "3ityICz1LbnT",
      "execution_count": 14,
      "outputs": [
        {
          "output_type": "execute_result",
          "data": {
            "text/plain": [
              "6"
            ]
          },
          "metadata": {},
          "execution_count": 14
        }
      ]
    },
    {
      "cell_type": "code",
      "source": [
        "#fungsi yang kedua untuk mengembalikan -1 jika karakter yang dicari tidak ditemukan\n",
        "judul.find(\"Rumah\")"
      ],
      "metadata": {
        "colab": {
          "base_uri": "https://localhost:8080/"
        },
        "id": "yqwG5clPVv7G",
        "outputId": "6eb6f68d-8871-4a10-abf0-9baf72413468"
      },
      "id": "yqwG5clPVv7G",
      "execution_count": 15,
      "outputs": [
        {
          "output_type": "execute_result",
          "data": {
            "text/plain": [
              "-1"
            ]
          },
          "metadata": {},
          "execution_count": 15
        }
      ]
    },
    {
      "cell_type": "code",
      "source": [
        "#yang kelima ada replace. Dimana berfungsi untuk mencari lalu menimpa sebuah karakter atau teks dengan teks baru\n",
        "judul.replace(\"rumah\" , \"di Medan\")\n"
      ],
      "metadata": {
        "colab": {
          "base_uri": "https://localhost:8080/",
          "height": 35
        },
        "id": "o3IfzWcOWehP",
        "outputId": "b15698ac-1038-41ba-bb53-07287123f660"
      },
      "id": "o3IfzWcOWehP",
      "execution_count": 25,
      "outputs": [
        {
          "output_type": "execute_result",
          "data": {
            "text/plain": [
              "'di Medan adalah istanaku'"
            ],
            "application/vnd.google.colaboratory.intrinsic+json": {
              "type": "string"
            }
          },
          "metadata": {},
          "execution_count": 25
        }
      ]
    },
    {
      "cell_type": "code",
      "source": [
        "judul.replace(\"rumahku\" , \"di Medan\")"
      ],
      "metadata": {
        "colab": {
          "base_uri": "https://localhost:8080/",
          "height": 35
        },
        "id": "aU9AkxkybhZb",
        "outputId": "61e527e8-27f6-4a03-e97e-890f82abde6a"
      },
      "id": "aU9AkxkybhZb",
      "execution_count": 27,
      "outputs": [
        {
          "output_type": "execute_result",
          "data": {
            "text/plain": [
              "'rumah adalah istanaku'"
            ],
            "application/vnd.google.colaboratory.intrinsic+json": {
              "type": "string"
            }
          },
          "metadata": {},
          "execution_count": 27
        }
      ]
    },
    {
      "cell_type": "code",
      "source": [
        "#yang keenam ada true dan false. dimana true berfungsi untuk menentukan nilai benar \n",
        "print(\"rumah\" in judul) "
      ],
      "metadata": {
        "colab": {
          "base_uri": "https://localhost:8080/"
        },
        "id": "8QvDCbayd2KF",
        "outputId": "a4ecef21-6807-492b-e7c8-632bcae946d2"
      },
      "id": "8QvDCbayd2KF",
      "execution_count": 4,
      "outputs": [
        {
          "output_type": "stream",
          "name": "stdout",
          "text": [
            "True\n"
          ]
        }
      ]
    },
    {
      "cell_type": "code",
      "source": [
        "#dan fungsi false untuk menentukan nilai salah\n",
        "\n",
        "print(\"rumahku\" in judul)"
      ],
      "metadata": {
        "colab": {
          "base_uri": "https://localhost:8080/"
        },
        "id": "5uNojgyze-SU",
        "outputId": "a692b4f9-3fa1-46e3-b897-90af7f3df7df"
      },
      "id": "5uNojgyze-SU",
      "execution_count": 5,
      "outputs": [
        {
          "output_type": "stream",
          "name": "stdout",
          "text": [
            "False\n"
          ]
        }
      ]
    },
    {
      "cell_type": "markdown",
      "id": "c67540ba",
      "metadata": {
        "id": "c67540ba"
      },
      "source": [
        "# 5.7 Operasi Matematika di Python"
      ]
    },
    {
      "cell_type": "code",
      "execution_count": 6,
      "id": "57c1727f",
      "metadata": {
        "colab": {
          "base_uri": "https://localhost:8080/"
        },
        "id": "57c1727f",
        "outputId": "b8b0a59d-5bec-4679-bdf0-98b74784e21a"
      },
      "outputs": [
        {
          "output_type": "stream",
          "name": "stdout",
          "text": [
            "8\n",
            "13\n",
            "0\n",
            "sisa uang adalah 5000\n",
            "16\n",
            "200\n",
            "1.3333333333333333\n",
            "masing-masing anak mendapatkan sebanyak 2.0\n",
            "1\n",
            "1\n",
            "sisa dari bilangannya adalah 5\n",
            "256\n",
            "81\n",
            "6\n",
            "5\n",
            "10\n"
          ]
        }
      ],
      "source": [
        "#terdapat beberapa operasi matematika\n",
        "\n",
        "#penjumlahan (+)\n",
        "print(4+4)\n",
        "apel = 6\n",
        "jeruk = 7\n",
        "buah = apel + jeruk\n",
        "print(buah) \n",
        "\n",
        "\n",
        "#pengurangan (-)\n",
        "print(4-4)\n",
        "hutang = 5000\n",
        "uang = 10000\n",
        "sisauang = uang - hutang\n",
        "print(\"sisa uang adalah\" , sisauang)\n",
        "\n",
        "\n",
        "#perkalian (*)\n",
        "print(4*4)\n",
        "panjang = 20\n",
        "lebar = 10\n",
        "luas = panjang*lebar\n",
        "print(luas)\n",
        "\n",
        "\n",
        "#pembagi (/)\n",
        "print(4/3)\n",
        "permen = 4\n",
        "anak = 2\n",
        "permenperanak = permen/anak\n",
        "print(\"masing-masing anak mendapatkan sebanyak\" , permenperanak)\n",
        "\n",
        "\n",
        "#pembulatan pembagian (//)\n",
        "print(4//3)\n",
        "#4 dibagi 3 adalah 1.333, karena dibulatkan maka akan menghasikan 1\n",
        " \n",
        "\n",
        "#modulo (%)\n",
        "print(4%3)\n",
        "bilangan1 = 12\n",
        "bilangan2 = 7\n",
        "hasil = bilangan1%bilangan2\n",
        "print(\"sisa dari bilangannya adalah\" , hasil)\n",
        "\n",
        "\n",
        "#pemangkatan (**)\n",
        "print(4**4)\n",
        "bilangan3 = 3\n",
        "bilangan4 = 4\n",
        "hasil = bilangan3**bilangan4\n",
        "print(hasil)\n",
        "\n",
        "\n",
        "#Augmented operato\n",
        "x=4\n",
        "x+=2\n",
        "#dari data diatas maka akan menghasikan 6\n",
        "print(x)\n",
        "x-=1\n",
        "#dari data yang diatas yang menghasikan 6, karena dikurangkan dengan 1 maka akan menghasikan 5\n",
        "print(x)\n",
        "x*=2\n",
        "#dari data yang diatas yang menghasilka 5, karena dikali dengan 2 maka akan menghasikan 10\n",
        "print(x)\n"
      ]
    },
    {
      "cell_type": "code",
      "execution_count": 8,
      "id": "7e2a018d",
      "metadata": {
        "colab": {
          "base_uri": "https://localhost:8080/"
        },
        "id": "7e2a018d",
        "outputId": "3b48a8b4-cd17-4473-9fa9-a47f22274d60"
      },
      "outputs": [
        {
          "output_type": "stream",
          "name": "stdout",
          "text": [
            "False\n",
            "True\n",
            "False\n",
            "True\n",
            "False\n",
            "True\n",
            "False\n",
            "True\n",
            "False\n",
            "True\n",
            "False\n",
            "True\n"
          ]
        }
      ],
      "source": [
        "#terdapat beberapa operasi perbandingan \n",
        "\n",
        "#lebih besar >\n",
        "x = 5>7\n",
        "print(x)\n",
        "x = 7>5\n",
        "print(x)\n",
        "\n",
        "\n",
        "#lebih kecil <\n",
        "x = 7<5\n",
        "print(x)\n",
        "x = 5<7\n",
        "print(x)\n",
        "\n",
        "\n",
        "#lebih besar sama dengan >=\n",
        "x = 5>=7\n",
        "print(x)\n",
        "x = 7>=5\n",
        "print(x)\n",
        "\n",
        "\n",
        "#lebih kecil sama dengan <=\n",
        "x = 7<=5\n",
        "print(x)\n",
        "x = 5<=7\n",
        "print(x)\n",
        "\n",
        "\n",
        "#sama dengan ==\n",
        "x = 5==7\n",
        "print(x)\n",
        "x = 5==5\n",
        "print(x)\n",
        "\n",
        "\n",
        "#tidak sama dengan !=\n",
        "x = 7!=7\n",
        "print(x)\n",
        "x = 5!=7\n",
        "print(x)"
      ]
    },
    {
      "cell_type": "markdown",
      "id": "bc5e2774",
      "metadata": {
        "id": "bc5e2774"
      },
      "source": [
        "# 5.9 Operator Logika di Python\n"
      ]
    },
    {
      "cell_type": "code",
      "execution_count": 13,
      "id": "78838eda",
      "metadata": {
        "colab": {
          "base_uri": "https://localhost:8080/"
        },
        "id": "78838eda",
        "outputId": "dbe059fb-ee75-4aca-e038-0575d67e0a7d"
      },
      "outputs": [
        {
          "output_type": "stream",
          "name": "stdout",
          "text": [
            "True\n",
            "False\n",
            "False\n",
            "True\n",
            "True\n",
            "False\n",
            "False\n",
            "False\n",
            "True\n"
          ]
        }
      ],
      "source": [
        "#terdapat beberapa operator logika\n",
        "\n",
        "bilangan_1 = 25\n",
        "bilangan_2 = 15\n",
        "\n",
        "#yang pertama ada and. Dimana operator and akan bernilai True jika kedua nilainya bernilai True,jika salah satu bernilai false maka akan bernilai false\n",
        "#true and true bernilai true\n",
        "print(bilangan_1 > 10 and  bilangan_2 < 20)\n",
        "#true and false bernilai false\n",
        "print(bilangan_1 > 10 and bilangan_2 > 20)\n",
        "#false and false bernilai false\n",
        "print(bilangan_1 < 10 and bilangan_2 > 20)\n",
        "\n",
        "\n",
        "#yang kedua ada or. Dimana operator or akan bernilai True jika salah satu nilainya bernilai True\n",
        "#true or true bernilai true\n",
        "print(bilangan_1 > 10 or bilangan_2 < 20 )\n",
        "#true or false bernilai true\n",
        "print(bilangan_1 > 10 or bilangan_2 > 20)\n",
        "#false or false bernilai false\n",
        "print(bilangan_1 < 10 or bilangan_2 > 20)\n",
        "\n",
        "\n",
        "#yang ketiga ada not. Dimana operator not akan menghasilkan nilai berlawanan. Misalkan nilai variabel x adalah True, maka nilai dari not(x) bernilai false\n",
        "#true not true bernilai false\n",
        "print(not(bilangan_1 > 10 or bilangan_2 < 20 ))\n",
        "#true not false bernilai false\n",
        "print(not(bilangan_1 > 10 or bilangan_2 > 20))\n",
        "#false not false bernilai true\n",
        "print(not(bilangan_1 < 10 or bilangan_2 > 20))\n"
      ]
    },
    {
      "cell_type": "markdown",
      "id": "c55e01d6",
      "metadata": {
        "id": "c55e01d6"
      },
      "source": [
        "# 5.10 Operator if di Python"
      ]
    },
    {
      "cell_type": "code",
      "execution_count": 2,
      "id": "6812c1f3",
      "metadata": {
        "colab": {
          "base_uri": "https://localhost:8080/"
        },
        "id": "6812c1f3",
        "outputId": "c4fe8b3e-fec0-4168-a57d-3cde38d05e3a"
      },
      "outputs": [
        {
          "output_type": "stream",
          "name": "stdout",
          "text": [
            "Berapakah berat badan anda? 160\n",
            "Berat badannya dalam kg atau gram? kg\n",
            "Berat badan anda adalah 160000.0 gram\n"
          ]
        }
      ],
      "source": [
        "#operator if akan dijalankan apabila nilai variabel yang dijalankan benilai true,sedangkan kalau nilainya false, maka tidak akan dijalankan\n",
        "\n",
        "berat = float(input(\"Berapakah berat badan anda? \"))\n",
        "kg_atau_gram = input(\"Berat badannya dalam kg atau gram? \")\n",
        "\n",
        "if kg_atau_gram.upper() == \"KG\" :\n",
        "   berat = berat*1000\n",
        "   print(\"Berat badan anda adalah \" + str(berat) + \" gram\")\n",
        "elif kg_atau_gram.upper() == \"GRAM\" :\n",
        "   berat = berat/1000\n",
        "   print(f\"Berat badan anda adalah {berat} cm\")\n"
      ]
    }
  ],
  "metadata": {
    "kernelspec": {
      "display_name": "Python 3 (ipykernel)",
      "language": "python",
      "name": "python3"
    },
    "language_info": {
      "codemirror_mode": {
        "name": "ipython",
        "version": 3
      },
      "file_extension": ".py",
      "mimetype": "text/x-python",
      "name": "python",
      "nbconvert_exporter": "python",
      "pygments_lexer": "ipython3",
      "version": "3.9.7"
    },
    "colab": {
      "provenance": [],
      "include_colab_link": true
    }
  },
  "nbformat": 4,
  "nbformat_minor": 5
}