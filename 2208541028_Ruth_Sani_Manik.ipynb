{
  "nbformat": 4,
  "nbformat_minor": 0,
  "metadata": {
    "colab": {
      "provenance": []
    },
    "kernelspec": {
      "name": "python3",
      "display_name": "Python 3"
    },
    "language_info": {
      "name": "python"
    }
  },
  "cells": [
    {
      "cell_type": "code",
      "execution_count": null,
      "metadata": {
        "id": "rWXoOat_UrZt",
        "colab": {
          "base_uri": "https://localhost:8080/"
        },
        "outputId": "7730d37c-0beb-415e-b035-6fecad72e1d4"
      },
      "outputs": [
        {
          "output_type": "stream",
          "name": "stdout",
          "text": [
            "saya suka ikan\n"
          ]
        }
      ],
      "source": [
        "#fungsi print digunakan untuk menampilkan output program\n",
        "print('saya suka ikan')\n"
      ]
    },
    {
      "cell_type": "code",
      "source": [
        "#masukkan terlebih dahulu nama datanya\n",
        "mahasiswa_28 = 42\n",
        "#masukkan lagi nama datanya\n",
        "uang_di_dompet_28 = 50000\n",
        "#dan kemudian kita print data yang ingin kita input\n",
        "print (mahasiswa_28)\n",
        "\n"
      ],
      "metadata": {
        "colab": {
          "base_uri": "https://localhost:8080/"
        },
        "id": "NuNjkW5nhSd7",
        "outputId": "30ec20ea-a6f3-44e9-9b31-cb08539eb5e0"
      },
      "execution_count": null,
      "outputs": [
        {
          "output_type": "stream",
          "name": "stdout",
          "text": [
            "42\n"
          ]
        }
      ]
    },
    {
      "cell_type": "code",
      "source": [
        "#lower berfungsi untuk mengubah alfabet pada sebuah kata atau kalimat menjadi huruf kecil\n",
        "print (\" SAYA SEDANG MEMBUAT TUGAS ALGORITMA\".lower())\n",
        "#upper berfungsi untuk mengubah alfabet pada sebuah kata atau kalimat menjadi huruf besar\n",
        "print (\" saya sedang membuat tugas algoritma\".upper())"
      ],
      "metadata": {
        "id": "qRLNP-Cc1OhD",
        "colab": {
          "base_uri": "https://localhost:8080/"
        },
        "outputId": "877992a3-a64b-4a80-f510-4dfa42f18983"
      },
      "execution_count": 1,
      "outputs": [
        {
          "output_type": "stream",
          "name": "stdout",
          "text": [
            " saya sedang membuat tugas algoritma\n",
            " SAYA SEDANG MEMBUAT TUGAS ALGORITMA\n"
          ]
        }
      ]
    },
    {
      "cell_type": "code",
      "source": [
        "#kode ini digunakan untuk menginput nama unser \n",
        "nama_depan = input ( \" \")\n",
        "nama_tengah = input (\" \")\n",
        "nama_belakang = input (\" \")\n",
        "print (nama_depan + nama_tengah + nama_belakang)"
      ],
      "metadata": {
        "colab": {
          "base_uri": "https://localhost:8080/"
        },
        "id": "SFCyDiB7lUnW",
        "outputId": "5575d9c8-8891-4e27-ceb1-b640c82419ff"
      },
      "execution_count": null,
      "outputs": [
        {
          "output_type": "stream",
          "name": "stdout",
          "text": [
            " ruth\n",
            " sani\n",
            " manik\n",
            "ruthsanimanik\n"
          ]
        }
      ]
    },
    {
      "cell_type": "code",
      "source": [
        "#sama seperti contoh diatas kita masukkan terlebih dahulu nama datanya\n",
        "panjang = 20\n",
        "#masukkan lagi nama datanya\n",
        "lebar = 10\n",
        "#kita ingin menginput luas, maka kita buat rumus dari luas\n",
        "luas = panjang * lebar\n",
        "#kemudian kita print\n",
        "print (luas)"
      ],
      "metadata": {
        "colab": {
          "base_uri": "https://localhost:8080/"
        },
        "id": "0IkBBg5zoayQ",
        "outputId": "5eef5ca6-b5ae-4caa-ca78-ba8d29d99c35"
      },
      "execution_count": null,
      "outputs": [
        {
          "output_type": "stream",
          "name": "stdout",
          "text": [
            "200\n"
          ]
        }
      ]
    },
    {
      "cell_type": "code",
      "source": [
        "dompet = int (input (\"Uang di dompet saya adalah \"))\n",
        "tabungan = int (input (\"Uang tabungan saya di bank adalah \"))\n",
        "total = int(dompet) + int (tabungan)\n",
        "print(\"Total uang saya adalah \" + str(total))\n"
      ],
      "metadata": {
        "colab": {
          "base_uri": "https://localhost:8080/"
        },
        "id": "-Q37864tsoU4",
        "outputId": "4ffd4d53-3a0d-4262-c7a6-db00bbd80afd"
      },
      "execution_count": null,
      "outputs": [
        {
          "output_type": "stream",
          "name": "stdout",
          "text": [
            "Uang di dompet saya adalah 135000\n",
            "Uang tabungan saya di bank adalah 500000\n",
            "Total uang saya adalah 635000\n"
          ]
        }
      ]
    },
    {
      "cell_type": "code",
      "source": [
        "#Menginput Angka\n",
        "angka = float(input(\" Tulis Sebuah Angka: \"))\n",
        "\n",
        "#Menampilkan Kondisi Angka Positif\n",
        "if angka > 0:\n",
        "   print(\"Angka Positif\")\n",
        "\n",
        "#Menampilkan Kondisi Angka Nol\n",
        "elif angka == 0:\n",
        "  print(\" Angka Nol \")\n",
        "  \n",
        "#Menampilkan Kondisi Angka Negatif\n",
        "if angka < 0:\n",
        "   print (\"Angka Negatif\")\n",
        "\n"
      ],
      "metadata": {
        "colab": {
          "base_uri": "https://localhost:8080/"
        },
        "id": "Ggfd9pSilbLN",
        "outputId": "e48df2e8-bedc-48bc-e7c1-bcb13e9bb82a"
      },
      "execution_count": null,
      "outputs": [
        {
          "output_type": "stream",
          "name": "stdout",
          "text": [
            " Tulis Sebuah Angka: 5\n",
            "Angka Positif\n"
          ]
        }
      ]
    },
    {
      "cell_type": "code",
      "source": [
        "#kita masukkan nama datanya\n",
        "angka = (1,2,4,8,10)\n",
        "#perulangan for untuk mengulangi item dari urutan apapun\n",
        "for x in angka :\n",
        "    print (x)\n"
      ],
      "metadata": {
        "colab": {
          "base_uri": "https://localhost:8080/"
        },
        "id": "JHacWKeU43YJ",
        "outputId": "c8f2cd68-0ac9-4173-ce85-ade332720334"
      },
      "execution_count": 2,
      "outputs": [
        {
          "output_type": "stream",
          "name": "stdout",
          "text": [
            "1\n",
            "2\n",
            "4\n",
            "8\n",
            "10\n"
          ]
        }
      ]
    },
    {
      "cell_type": "code",
      "source": [
        "#menginput kalimat\n",
        "kalimat = input (\"semoga harimu menyenangkan:\")\n",
        "#split berfungsi untuk memecah sebuah kalimat menjadi kata-kata\n",
        "kata = kalimat.split()\n",
        "#sort berfungsi untuk mengurutkan kata-kata tadi sesuai dengan abjad\n",
        "kata.sort()\n",
        "print(\"berikut urutan kata-kata:\")\n",
        "#seperti contoh yang diatas perulangan for\n",
        "for urut in kata :\n",
        "   print (urut)"
      ],
      "metadata": {
        "colab": {
          "base_uri": "https://localhost:8080/"
        },
        "id": "0OZpbehXmdpS",
        "outputId": "96d67ce1-80a4-4512-e68e-c8ed829c2b8e"
      },
      "execution_count": 4,
      "outputs": [
        {
          "output_type": "stream",
          "name": "stdout",
          "text": [
            "semoga harimu menyenangkan:semoga harimu menyenangkan\n",
            "berikut urutan kata-kata:\n",
            "harimu\n",
            "menyenangkan\n",
            "semoga\n"
          ]
        }
      ]
    },
    {
      "cell_type": "code",
      "source": [
        "#float adalah tipe data yang berfungsi menampung bilangan desimal atau pecahan \n",
        "data2 = 4.5\n",
        "float (data2)"
      ],
      "metadata": {
        "colab": {
          "base_uri": "https://localhost:8080/"
        },
        "id": "MAWrs7H_BsZs",
        "outputId": "c4fd5695-22d8-48ec-b38b-fca2153b7a1d"
      },
      "execution_count": 8,
      "outputs": [
        {
          "output_type": "execute_result",
          "data": {
            "text/plain": [
              "4.5"
            ]
          },
          "metadata": {},
          "execution_count": 8
        }
      ]
    },
    {
      "cell_type": "code",
      "source": [
        "#menginput nilai variabel\n",
        "x = input (\"tuliskan nilai x:\")\n",
        "y = input (\"tuliskan nilai y:\")\n",
        "#membuat variabel tukar dan menukar nilai variabel lain\n",
        "tukar = x\n",
        "x = y\n",
        "y = tukar\n",
        "#menampilkan nilai variabel setelah ditukar\n",
        "print(\"nilai x setelah ditukar adalah: {}\".format(x))\n",
        "print(\"nilai y setelah ditukar adalah: {}\".format(y))\n"
      ],
      "metadata": {
        "colab": {
          "base_uri": "https://localhost:8080/"
        },
        "id": "U8vtQ6E0oodW",
        "outputId": "ccb234a7-7853-407c-a459-f9fbe968aa30"
      },
      "execution_count": 6,
      "outputs": [
        {
          "output_type": "stream",
          "name": "stdout",
          "text": [
            "tuliskan nilai x:5\n",
            "tuliskan nilai y:10\n",
            "nilai x setelah ditukar adalah: 10\n",
            "nilai y setelah ditukar adalah: 5\n"
          ]
        }
      ]
    }
  ]
}